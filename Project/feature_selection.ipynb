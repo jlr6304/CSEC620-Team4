{
 "cells": [
  {
   "cell_type": "markdown",
   "metadata": {},
   "source": [
    "# Python Notebook - Feature selection for .pdf classification"
   ]
  },
  {
   "cell_type": "markdown",
   "metadata": {},
   "source": [
    "### Data importation"
   ]
  },
  {
   "cell_type": "code",
   "execution_count": 1,
   "metadata": {},
   "outputs": [],
   "source": [
    "import pandas as pd\n",
    "import numpy as np\n",
    "import matplotlib.pyplot as plt\n",
    "import re"
   ]
  },
  {
   "cell_type": "markdown",
   "metadata": {},
   "source": [
    "This study is based on the output of the `Exiftool` metadata extraction tool. This output is imported below "
   ]
  },
  {
   "cell_type": "code",
   "execution_count": 2,
   "metadata": {},
   "outputs": [],
   "source": [
    "files = pd.read_csv('data/metadata.csv', sep=\",\", encoding=\"ISO-8859-1\", low_memory=False)"
   ]
  },
  {
   "cell_type": "code",
   "execution_count": 3,
   "metadata": {},
   "outputs": [
    {
     "name": "stdout",
     "output_type": "stream",
     "text": [
      "files.shape=(19979, 389)\n"
     ]
    }
   ],
   "source": [
    "n = files.shape[0]\n",
    "print(f'{files.shape=}')"
   ]
  },
  {
   "cell_type": "markdown",
   "metadata": {},
   "source": [
    "There are around 20,000 samples and 400 features. This represent a huge set of features and some selection need to be made. By looking at the file one can notice that there a lot of missing values. We take a look at the missing values rate for each feature.\n",
    "\n",
    "---"
   ]
  },
  {
   "cell_type": "markdown",
   "metadata": {},
   "source": [
    "## Ratio of missing values for each feature"
   ]
  },
  {
   "cell_type": "code",
   "execution_count": 4,
   "metadata": {},
   "outputs": [],
   "source": [
    "na_ratio = files.isnull().sum(axis = 0)/n"
   ]
  },
  {
   "cell_type": "markdown",
   "metadata": {},
   "source": [
    "### Without exclusion"
   ]
  },
  {
   "cell_type": "code",
   "execution_count": 5,
   "metadata": {},
   "outputs": [
    {
     "data": {
      "image/png": "[encoded data removed]",
      "text/plain": [
       "<Figure size 640x480 with 1 Axes>"
      ]
     },
     "metadata": {},
     "output_type": "display_data"
    }
   ],
   "source": [
    "plt.hist(na_ratio, bins=50)\n",
    "plt.title('Histogram of the ratio of missing values in the features')\n",
    "plt.xlabel('Ratio of na values'); plt.ylabel('Number of features')\n",
    "plt.show()"
   ]
  },
  {
   "cell_type": "markdown",
   "metadata": {},
   "source": [
    "The majority of features have a high na ratio. Those must be removed from the analysis. We define a threshold of exclusion. "
   ]
  },
  {
   "cell_type": "code",
   "execution_count": 6,
   "metadata": {},
   "outputs": [
    {
     "name": "stdout",
     "output_type": "stream",
     "text": [
      "number of removed features: 356\n",
      "['About' 'Accessability' 'Accessibility' 'Accessibility0020' 'Accessible'\n",
      " 'Accessiblilty' 'Accessiblity' 'AIBuildNumber' 'AIColorModel'\n",
      " 'AIColorUsage' 'AICreatorVersion' 'AINumLayers' 'AIRulerUnits'\n",
      " 'AITargetResolution' 'AnnotationUsageRights' 'AuthorRef'\n",
      " 'AuthorsPosition' 'Base0020Target' 'Base_Target' 'BlueMatrixColumn'\n",
      " 'BlueTRC' 'BoundingBox' 'CaptionWriter' 'Category' 'Changes'\n",
      " 'ChromaticAdaptation' 'Chronicle' 'CMMFlags' 'ColorSpaceData' 'Comments'\n",
      " 'Company' 'Conformance' 'ConnectionSpaceIlluminant' 'Contact'\n",
      " 'ContactRef' 'ContainerVersion' 'ContentTypeId' 'Copyright' 'Created'\n",
      " 'CreationDate' 'CreationDate--Text' 'CreationDateRef' 'CreatorRef'\n",
      " 'CreatorVersion' 'CUS_DocIDbchkClientNumber' 'CUS_DocIDbchkDate'\n",
      " 'CUS_DocIDbchkDocumentName' 'CUS_DocIDbchkDocumentNumber'\n",
      " 'CUS_DocIDbChkLibDB' 'CUS_DocIDbchkMatterNumber' 'CUS_DocIDbchkTime'\n",
      " 'CUS_DocIDiPage' 'CUS_DocIDsSeparator' 'Date' 'DateElement-refinement'\n",
      " 'DCTMDocbaseId' 'DCTMObjectId' 'Department' 'DepartmentRef' 'DerivedFrom'\n",
      " 'DerivedFromDocumentID' 'DerivedFromDocumentName' 'DerivedFromInstanceID'\n",
      " 'DerivedFromOriginalDocumentID' 'DerivedFromRenditionClass'\n",
      " 'DerivedFromVersionID' 'DeviceAttributes' 'DeviceManufacturer'\n",
      " 'DeviceMfgDesc' 'DeviceModel' 'DeviceModelDesc' 'DLI' 'DLI_Copyright'\n",
      " 'DocChangeCount' 'DocNumber' 'DocPage' 'DocPrefix' 'DocType'\n",
      " 'DocumentUsageRights' 'EMAIL_OWNER_ADDRESS' 'EmbeddedFileUsageRights'\n",
      " 'EmbeddedHref' 'EmbeddedHrefRef' 'Encryption' 'Enhanced' 'Error'\n",
      " 'FieldPermissions' 'FileNum' 'Fillable' 'FontComposite' 'FontFace'\n",
      " 'FontFamily' 'FontFileName' 'FontName' 'FontType' 'FontVersion' 'For'\n",
      " 'Form0020Field' 'Form0020fields' 'Form_0020field' 'Form_0020fields'\n",
      " 'Form_Field' 'Form_Fields' 'Formf0020ields' 'FormField' 'FormFields'\n",
      " 'FormUsageRights' 'From0020Fields' 'From_0020Fields' 'From_Fields'\n",
      " 'GrayTRC' 'GreenMatrixColumn' 'GreenTRC' 'HasVisibleOverprint'\n",
      " 'HasVisibleTransparency' 'Headline' 'HistoryAction' 'HistoryChanged'\n",
      " 'HistoryInstanceID' 'HistoryParams' 'HistorySoftwareAgent' 'HistoryWhen'\n",
      " 'ImageHeight' 'ImageSize' 'ImageWidth' 'KeywordsRef' 'KN' 'Lang'\n",
      " 'Language' 'LastSaved' 'LineCount' 'Luminance' 'MAIL_MSG_ID1'\n",
      " 'MAIL_MSG_ID2' 'Manager' 'ManifestLinkForm'\n",
      " 'ManifestPlacedResolutionUnit' 'ManifestPlacedXResolution'\n",
      " 'ManifestPlacedYResolution' 'ManifestReferenceDocumentID'\n",
      " 'ManifestReferenceFilePath' 'ManifestReferenceInstanceID' 'Marked'\n",
      " 'MaxPageSizeH' 'MaxPageSizeUnit' 'MaxPageSizeW' 'MeasurementBacking'\n",
      " 'MeasurementFlare' 'MeasurementGeometry' 'MeasurementIlluminant'\n",
      " 'MeasurementObserver' 'MediaBlackPoint' 'MediaWhitePoint' 'Megapixels'\n",
      " 'MIMEEncoding' 'ModDate' 'ModDate--Text' 'ModDateRef'\n",
      " 'ModificationPermissions' 'NativeDisplayInfo' 'NCCL_-55-19-122027-65'\n",
      " 'NCCL_011085018054050' 'NCCL_081049-39-40-15' 'NCCL_081049-39-40-16'\n",
      " 'NCCL_116091015-42064' 'NCCL_116091015-42065' 'NCCL_116091015-42066'\n",
      " 'NCCL_116091015-42067' 'NCCL_116091015-42068' 'NCCL_116091015-42068-39'\n",
      " 'NCCL_116091015-42068-40' 'NCCL_116091015-42068-41'\n",
      " 'NCCL_116091015-42068-42' 'NCCL_116091015-42068-43'\n",
      " 'NCCL_116091015-42068-44' 'NCCL_116091015-42068-45'\n",
      " 'NCCL_116091015-42068-46' 'NCCL_116091015-42068-47'\n",
      " 'NCCL_116091015-42068-48' 'NCCL_116091015-42069'\n",
      " 'NCCL_116091015-42069-41' 'NCCL_116091015-42069-43'\n",
      " 'NCCL_116091015-42069-44' 'NCCL_116091015-42069-45'\n",
      " 'NCCL_116091015-42069-46' 'NCCL_116091015-42069-47'\n",
      " 'NCCL_116091015-42069-48' 'NCCL_116091015-42070' 'NCCL_116091015-42071'\n",
      " 'NCCL_116091015-42071-39' 'NCCL_116091015-42071-40'\n",
      " 'NCCL_116091015-42071-41' 'NCCL_116091015-42071-42'\n",
      " 'NCCL_116091015-42071-43' 'NCCL_116091015-42071-44'\n",
      " 'NCCL_116091015-42071-45' 'NCCL_116091015-42071-46'\n",
      " 'NCCL_116091015-42071-47' 'NCCL_116091015-42071-48'\n",
      " 'NCCL_116091015-42078' 'NCCL_116091015-42079' 'NCCL_121-61098035'\n",
      " 'NCCL_121-61098035001' 'NCCL_121-61098035002' 'NCCL_121-61098035003'\n",
      " 'NCCL_121-61098035004' 'NCCL_121-61098035005' 'NCCL_121-61098035006'\n",
      " 'NCCL_121-61098035007' 'NCCL_121-61098035011' 'NCCL_DocId' 'Newlines'\n",
      " 'NPages' 'OcrPages' 'OrgCode' 'OriginalDocumentID' 'PageImage'\n",
      " 'PageImageFormat' 'PageImageHeight' 'PageImagePageNumber'\n",
      " 'PageImageWidth' 'PageLayout' 'PageMode' 'Part' 'PDF_Version'\n",
      " 'PDF_VersionRef' 'PDFRes' 'PlateNames' 'Platform' 'PostscriptName'\n",
      " 'PrimaryPlatform' 'ProducerRef' 'ProfileBlob' 'ProfileClass'\n",
      " 'ProfileCMMType' 'ProfileConnectionSpace' 'ProfileCopyright'\n",
      " 'ProfileCreator' 'ProfileDateTime' 'ProfileDescription'\n",
      " 'ProfileDescriptionML' 'ProfileDescriptionML-ar-EG'\n",
      " 'ProfileDescriptionML-ca-ES' 'ProfileDescriptionML-cs-CZ'\n",
      " 'ProfileDescriptionML-da-DK' 'ProfileDescriptionML-de-DE'\n",
      " 'ProfileDescriptionML-el-GR' 'ProfileDescriptionML-es-ES'\n",
      " 'ProfileDescriptionML-fi-FI' 'ProfileDescriptionML-fr-FU'\n",
      " 'ProfileDescriptionML-he-IL' 'ProfileDescriptionML-hr-HR'\n",
      " 'ProfileDescriptionML-hu-HU' 'ProfileDescriptionML-it-IT'\n",
      " 'ProfileDescriptionML-ja-JP' 'ProfileDescriptionML-ko-KR'\n",
      " 'ProfileDescriptionML-nb-NO' 'ProfileDescriptionML-nl-NL'\n",
      " 'ProfileDescriptionML-no-NO' 'ProfileDescriptionML-pl-PL'\n",
      " 'ProfileDescriptionML-pt-BR' 'ProfileDescriptionML-pt-PO'\n",
      " 'ProfileDescriptionML-ro-RO' 'ProfileDescriptionML-ru-RU'\n",
      " 'ProfileDescriptionML-sk-SK' 'ProfileDescriptionML-sv-SE'\n",
      " 'ProfileDescriptionML-th-TH' 'ProfileDescriptionML-tr-TR'\n",
      " 'ProfileDescriptionML-uk-UA' 'ProfileDescriptionML-zh-CN'\n",
      " 'ProfileDescriptionML-zh-TW' 'ProfileFileSignature' 'ProfileID'\n",
      " 'ProfileVersion' 'PTEX_Fullbanner' 'RedMatrixColumn' 'RedTRC'\n",
      " 'RenderingIntent' 'RenditionClass' 'RenditionOfDocumentID'\n",
      " 'RenditionOfRenditionClass' 'RenditionOfVersionID' 'RESPONSE_SENDER_NAME'\n",
      " 'Rights' 'Schema_Annotation' 'Schema_Annotation_2'\n",
      " 'Schema_Annotation_2Ref' 'Schema_AnnotationRef' 'SignatureUsageRights'\n",
      " 'SignerContactInfo' 'SigningAuthority' 'SigningDate' 'SigningLocation'\n",
      " 'SigningReason' 'SourceModified' 'SPDF' 'StartupProfile' 'State'\n",
      " 'StyleFile' 'SubjectRef' 'Submitted' 'SwatchColorantBlack'\n",
      " 'SwatchColorantCyan' 'SwatchColorantGray' 'SwatchColorantMagenta'\n",
      " 'SwatchColorantMode' 'SwatchColorantSwatchName' 'SwatchColorantTint'\n",
      " 'SwatchColorantType' 'SwatchColorantYellow' 'SwatchGroupName'\n",
      " 'SwatchGroupType' 'Tag0023DCTMDocbaseName' 'Tag0023DCTMRequestedBy'\n",
      " 'Tag0023DCTMSourceContentType' 'Tag_AdHocReviewCycleID' 'Tag_AuthorEmail'\n",
      " 'Tag_AuthorEmailDisplayName' 'Tag_DCTMDocbaseName' 'Tag_DCTMRequestedBy'\n",
      " 'Tag_DCTMSourceContentType' 'Tag_EmailEntryID' 'Tag_EmailStoreID'\n",
      " 'Tag_EmailStoreID0' 'Tag_EmailStoreID1' 'Tag_EmailSubject'\n",
      " 'Tag_PreviousAdHocReviewCycleID' 'Tag_ReviewCycleID' 'Tag_TemplateID'\n",
      " 'Tag_TentativeReviewCycleID' 'Technology' 'TextFile' 'ThumbnailFormat'\n",
      " 'ThumbnailHeight' 'ThumbnailImage' 'ThumbnailWidth' 'TitleRef' 'Trapped'\n",
      " 'Type' 'UsageRightsMessage' 'UserAccess' 'Version' 'VersionID'\n",
      " 'VersionRef' 'VideoCardGamma' 'ViewingCondDesc' 'ViewingCondIlluminant'\n",
      " 'ViewingCondIlluminantType' 'ViewingCondSurround' 'WebStatement'\n",
      " 'WordCount' 'XPressPrivate']\n"
     ]
    }
   ],
   "source": [
    "threshold = .9\n",
    "print(\"number of removed features:\", (na_ratio >= threshold).sum())\n",
    "print(na_ratio[(na_ratio.values >= threshold) & (na_ratio .values< 1)].index.values)"
   ]
  },
  {
   "cell_type": "markdown",
   "metadata": {},
   "source": [
    "*Note: here are listed the excluded variables, one can look at these individually for forcing their presence in the studied dataset.*"
   ]
  },
  {
   "cell_type": "markdown",
   "metadata": {},
   "source": [
    "### With Exclusion"
   ]
  },
  {
   "cell_type": "code",
   "execution_count": 7,
   "metadata": {},
   "outputs": [
    {
     "data": {
      "image/png": "[encoded data removed]",
      "text/plain": [
       "<Figure size 640x480 with 1 Axes>"
      ]
     },
     "metadata": {},
     "output_type": "display_data"
    }
   ],
   "source": [
    "plt.hist(na_ratio[na_ratio < threshold], bins=50)\n",
    "plt.xlabel('Ratio of na values'); plt.ylabel('Number of features')\n",
    "plt.show()"
   ]
  },
  {
   "cell_type": "code",
   "execution_count": 8,
   "metadata": {},
   "outputs": [
    {
     "data": {
      "text/plain": [
       "Keywords        0.885280\n",
       "HasXFA          0.856599\n",
       "Description     0.851094\n",
       "TaggedPDF       0.823014\n",
       "Subject         0.795635\n",
       "InstanceID      0.736924\n",
       "CreatorTool     0.731618\n",
       "XMPToolkit      0.707843\n",
       "Format          0.707543\n",
       "DocumentID      0.707493\n",
       "MetadataDate    0.696381\n",
       "Title           0.678613\n",
       "Author          0.655889\n",
       "Creator         0.624205\n",
       "ModifyDate      0.594324\n",
       "Producer        0.536463\n",
       "CreateDate      0.528805\n",
       "PageCount       0.525902\n",
       "Warning         0.495620\n",
       "PDFVersion      0.035437\n",
       "dtype: float64"
      ]
     },
     "execution_count": 8,
     "metadata": {},
     "output_type": "execute_result"
    }
   ],
   "source": [
    "na_ratio[na_ratio < threshold].sort_values(ascending=False).head(20)"
   ]
  },
  {
   "cell_type": "markdown",
   "metadata": {},
   "source": [
    "*Note: here are listed the kept features with the highest na ratio.*"
   ]
  },
  {
   "cell_type": "markdown",
   "metadata": {},
   "source": [
    "## Features exclusion\n",
    "\n",
    "We reduce the size of the dataset by removing the unecessenary features and display the resulting data set."
   ]
  },
  {
   "cell_type": "code",
   "execution_count": 9,
   "metadata": {},
   "outputs": [
    {
     "data": {
      "text/html": [
       "<div>\n",
       "<style scoped>\n",
       "    .dataframe tbody tr th:only-of-type {\n",
       "        vertical-align: middle;\n",
       "    }\n",
       "\n",
       "    .dataframe tbody tr th {\n",
       "        vertical-align: top;\n",
       "    }\n",
       "\n",
       "    .dataframe thead th {\n",
       "        text-align: right;\n",
       "    }\n",
       "</style>\n",
       "<table border=\"1\" class=\"dataframe\">\n",
       "  <thead>\n",
       "    <tr style=\"text-align: right;\">\n",
       "      <th></th>\n",
       "      <th>SourceFile</th>\n",
       "      <th>Author</th>\n",
       "      <th>CreateDate</th>\n",
       "      <th>Creator</th>\n",
       "      <th>CreatorTool</th>\n",
       "      <th>Description</th>\n",
       "      <th>Directory</th>\n",
       "      <th>DocumentID</th>\n",
       "      <th>ExifToolVersion</th>\n",
       "      <th>FileAccessDate</th>\n",
       "      <th>...</th>\n",
       "      <th>MIMEType</th>\n",
       "      <th>ModifyDate</th>\n",
       "      <th>PageCount</th>\n",
       "      <th>PDFVersion</th>\n",
       "      <th>Producer</th>\n",
       "      <th>Subject</th>\n",
       "      <th>TaggedPDF</th>\n",
       "      <th>Title</th>\n",
       "      <th>Warning</th>\n",
       "      <th>XMPToolkit</th>\n",
       "    </tr>\n",
       "  </thead>\n",
       "  <tbody>\n",
       "    <tr>\n",
       "      <th>0</th>\n",
       "      <td>CSEC 620 Project/PDF's/CLEAN_PDF_9000_files/02...</td>\n",
       "      <td>lbsmit00</td>\n",
       "      <td>2006:03:30 14:09:13Z</td>\n",
       "      <td>lbsmit00</td>\n",
       "      <td>PageMaker 7.0</td>\n",
       "      <td>NaN</td>\n",
       "      <td>CSEC 620 Project/PDF's/CLEAN_PDF_9000_files</td>\n",
       "      <td>uuid:1e0c3b1e-fb1c-411a-8d43-35aaf55dc631</td>\n",
       "      <td>12.36</td>\n",
       "      <td>2021:12:01 15:53:26-05:00</td>\n",
       "      <td>...</td>\n",
       "      <td>application/pdf</td>\n",
       "      <td>2006:04:06 08:48:54-04:00</td>\n",
       "      <td>34.0</td>\n",
       "      <td>1.4</td>\n",
       "      <td>Acrobat Distiller 5.0 (Windows)</td>\n",
       "      <td>NaN</td>\n",
       "      <td>NaN</td>\n",
       "      <td>Unrelated Business Income.pmd</td>\n",
       "      <td>NaN</td>\n",
       "      <td>XMP toolkit 2.9.1-14, framework 1.6</td>\n",
       "    </tr>\n",
       "    <tr>\n",
       "      <th>1</th>\n",
       "      <td>CSEC 620 Project/PDF's/CLEAN_PDF_9000_files/02...</td>\n",
       "      <td>jnwill00</td>\n",
       "      <td>2006:04:05 09:30:37-04:00</td>\n",
       "      <td>jnwill00</td>\n",
       "      <td>PageMaker 6.5</td>\n",
       "      <td>NaN</td>\n",
       "      <td>CSEC 620 Project/PDF's/CLEAN_PDF_9000_files</td>\n",
       "      <td>uuid:b82d68a3-0461-4037-8344-9a80acda9c58</td>\n",
       "      <td>12.36</td>\n",
       "      <td>2021:12:01 15:53:26-05:00</td>\n",
       "      <td>...</td>\n",
       "      <td>application/pdf</td>\n",
       "      <td>2010:03:22 11:18:17-04:00</td>\n",
       "      <td>29.0</td>\n",
       "      <td>1.6</td>\n",
       "      <td>Acrobat Distiller 6.0.1 (Windows)</td>\n",
       "      <td>NaN</td>\n",
       "      <td>NaN</td>\n",
       "      <td>Transactions article.pmd</td>\n",
       "      <td>NaN</td>\n",
       "      <td>Adobe XMP Core 4.0-c321 44.398116, Tue Aug 04 ...</td>\n",
       "    </tr>\n",
       "    <tr>\n",
       "      <th>2</th>\n",
       "      <td>CSEC 620 Project/PDF's/CLEAN_PDF_9000_files/02...</td>\n",
       "      <td>jnwill00</td>\n",
       "      <td>2005:09:28 08:16:58-04:00</td>\n",
       "      <td>jnwill00</td>\n",
       "      <td>PageMaker 6.5</td>\n",
       "      <td>NaN</td>\n",
       "      <td>CSEC 620 Project/PDF's/CLEAN_PDF_9000_files</td>\n",
       "      <td>uuid:3c1e2fa3-2747-495e-b782-f0614579adc7</td>\n",
       "      <td>12.36</td>\n",
       "      <td>2021:12:01 15:53:26-05:00</td>\n",
       "      <td>...</td>\n",
       "      <td>application/pdf</td>\n",
       "      <td>2005:09:28 08:16:58-04:00</td>\n",
       "      <td>34.0</td>\n",
       "      <td>1.4</td>\n",
       "      <td>Acrobat Distiller 6.0 (Windows)</td>\n",
       "      <td>NaN</td>\n",
       "      <td>NaN</td>\n",
       "      <td>Tax-Exempt Bonds, 1996-2002.pmd</td>\n",
       "      <td>NaN</td>\n",
       "      <td>XMP toolkit 2.9.1-13, framework 1.6</td>\n",
       "    </tr>\n",
       "    <tr>\n",
       "      <th>3</th>\n",
       "      <td>CSEC 620 Project/PDF's/CLEAN_PDF_9000_files/02...</td>\n",
       "      <td>jnwill00</td>\n",
       "      <td>2004:09:30 13:47:07</td>\n",
       "      <td>Adobe PageMaker 7.0 - [P:\\WILLIS\\Sum04\\ARTICL~...</td>\n",
       "      <td>NaN</td>\n",
       "      <td>NaN</td>\n",
       "      <td>CSEC 620 Project/PDF's/CLEAN_PDF_9000_files</td>\n",
       "      <td>NaN</td>\n",
       "      <td>12.36</td>\n",
       "      <td>2021:12:01 15:53:26-05:00</td>\n",
       "      <td>...</td>\n",
       "      <td>application/pdf</td>\n",
       "      <td>NaN</td>\n",
       "      <td>59.0</td>\n",
       "      <td>1.2</td>\n",
       "      <td>Acrobat PDFWriter 5.0 for Windows NT</td>\n",
       "      <td>NaN</td>\n",
       "      <td>NaN</td>\n",
       "      <td>P:\\WILLIS\\Sum04\\ARTICL~1\\SOLEPR</td>\n",
       "      <td>NaN</td>\n",
       "      <td>NaN</td>\n",
       "    </tr>\n",
       "    <tr>\n",
       "      <th>4</th>\n",
       "      <td>CSEC 620 Project/PDF's/CLEAN_PDF_9000_files/03...</td>\n",
       "      <td>U.S. Copyright Office</td>\n",
       "      <td>2000:02:10 09:37:43Z</td>\n",
       "      <td>U.S. Copyright Office</td>\n",
       "      <td>NaN</td>\n",
       "      <td>Comments on Exemption to Prohibition on Circum...</td>\n",
       "      <td>CSEC 620 Project/PDF's/CLEAN_PDF_9000_files</td>\n",
       "      <td>NaN</td>\n",
       "      <td>12.36</td>\n",
       "      <td>2021:12:01 15:53:26-05:00</td>\n",
       "      <td>...</td>\n",
       "      <td>application/pdf</td>\n",
       "      <td>2002:04:29 11:59:37-04:00</td>\n",
       "      <td>5.0</td>\n",
       "      <td>1.4</td>\n",
       "      <td>Acrobat Distiller 4.0 for Windows</td>\n",
       "      <td>Comments on Exemption to Prohibition on Circum...</td>\n",
       "      <td>NaN</td>\n",
       "      <td>Comments on Exemption to Prohibition on Circum...</td>\n",
       "      <td>NaN</td>\n",
       "      <td>NaN</td>\n",
       "    </tr>\n",
       "  </tbody>\n",
       "</table>\n",
       "<p>5 rows × 33 columns</p>\n",
       "</div>"
      ],
      "text/plain": [
       "                                          SourceFile                 Author  \\\n",
       "0  CSEC 620 Project/PDF's/CLEAN_PDF_9000_files/02...               lbsmit00   \n",
       "1  CSEC 620 Project/PDF's/CLEAN_PDF_9000_files/02...               jnwill00   \n",
       "2  CSEC 620 Project/PDF's/CLEAN_PDF_9000_files/02...               jnwill00   \n",
       "3  CSEC 620 Project/PDF's/CLEAN_PDF_9000_files/02...               jnwill00   \n",
       "4  CSEC 620 Project/PDF's/CLEAN_PDF_9000_files/03...  U.S. Copyright Office   \n",
       "\n",
       "                  CreateDate  \\\n",
       "0       2006:03:30 14:09:13Z   \n",
       "1  2006:04:05 09:30:37-04:00   \n",
       "2  2005:09:28 08:16:58-04:00   \n",
       "3        2004:09:30 13:47:07   \n",
       "4       2000:02:10 09:37:43Z   \n",
       "\n",
       "                                             Creator    CreatorTool  \\\n",
       "0                                           lbsmit00  PageMaker 7.0   \n",
       "1                                           jnwill00  PageMaker 6.5   \n",
       "2                                           jnwill00  PageMaker 6.5   \n",
       "3  Adobe PageMaker 7.0 - [P:\\WILLIS\\Sum04\\ARTICL~...            NaN   \n",
       "4                              U.S. Copyright Office            NaN   \n",
       "\n",
       "                                         Description  \\\n",
       "0                                                NaN   \n",
       "1                                                NaN   \n",
       "2                                                NaN   \n",
       "3                                                NaN   \n",
       "4  Comments on Exemption to Prohibition on Circum...   \n",
       "\n",
       "                                     Directory  \\\n",
       "0  CSEC 620 Project/PDF's/CLEAN_PDF_9000_files   \n",
       "1  CSEC 620 Project/PDF's/CLEAN_PDF_9000_files   \n",
       "2  CSEC 620 Project/PDF's/CLEAN_PDF_9000_files   \n",
       "3  CSEC 620 Project/PDF's/CLEAN_PDF_9000_files   \n",
       "4  CSEC 620 Project/PDF's/CLEAN_PDF_9000_files   \n",
       "\n",
       "                                  DocumentID  ExifToolVersion  \\\n",
       "0  uuid:1e0c3b1e-fb1c-411a-8d43-35aaf55dc631            12.36   \n",
       "1  uuid:b82d68a3-0461-4037-8344-9a80acda9c58            12.36   \n",
       "2  uuid:3c1e2fa3-2747-495e-b782-f0614579adc7            12.36   \n",
       "3                                        NaN            12.36   \n",
       "4                                        NaN            12.36   \n",
       "\n",
       "              FileAccessDate  ...         MIMEType                 ModifyDate  \\\n",
       "0  2021:12:01 15:53:26-05:00  ...  application/pdf  2006:04:06 08:48:54-04:00   \n",
       "1  2021:12:01 15:53:26-05:00  ...  application/pdf  2010:03:22 11:18:17-04:00   \n",
       "2  2021:12:01 15:53:26-05:00  ...  application/pdf  2005:09:28 08:16:58-04:00   \n",
       "3  2021:12:01 15:53:26-05:00  ...  application/pdf                        NaN   \n",
       "4  2021:12:01 15:53:26-05:00  ...  application/pdf  2002:04:29 11:59:37-04:00   \n",
       "\n",
       "  PageCount PDFVersion                              Producer  \\\n",
       "0      34.0        1.4       Acrobat Distiller 5.0 (Windows)   \n",
       "1      29.0        1.6     Acrobat Distiller 6.0.1 (Windows)   \n",
       "2      34.0        1.4       Acrobat Distiller 6.0 (Windows)   \n",
       "3      59.0        1.2  Acrobat PDFWriter 5.0 for Windows NT   \n",
       "4       5.0        1.4     Acrobat Distiller 4.0 for Windows   \n",
       "\n",
       "                                             Subject TaggedPDF  \\\n",
       "0                                                NaN       NaN   \n",
       "1                                                NaN       NaN   \n",
       "2                                                NaN       NaN   \n",
       "3                                                NaN       NaN   \n",
       "4  Comments on Exemption to Prohibition on Circum...       NaN   \n",
       "\n",
       "                                               Title Warning  \\\n",
       "0                      Unrelated Business Income.pmd     NaN   \n",
       "1                           Transactions article.pmd     NaN   \n",
       "2                    Tax-Exempt Bonds, 1996-2002.pmd     NaN   \n",
       "3                    P:\\WILLIS\\Sum04\\ARTICL~1\\SOLEPR     NaN   \n",
       "4  Comments on Exemption to Prohibition on Circum...     NaN   \n",
       "\n",
       "                                          XMPToolkit  \n",
       "0                XMP toolkit 2.9.1-14, framework 1.6  \n",
       "1  Adobe XMP Core 4.0-c321 44.398116, Tue Aug 04 ...  \n",
       "2                XMP toolkit 2.9.1-13, framework 1.6  \n",
       "3                                                NaN  \n",
       "4                                                NaN  \n",
       "\n",
       "[5 rows x 33 columns]"
      ]
     },
     "execution_count": 9,
     "metadata": {},
     "output_type": "execute_result"
    }
   ],
   "source": [
    "threshold = .9\n",
    "files_red = files[na_ratio[na_ratio < threshold].index.values].copy()\n",
    "files_red.head()"
   ]
  },
  {
   "cell_type": "markdown",
   "metadata": {},
   "source": [
    "---"
   ]
  },
  {
   "cell_type": "markdown",
   "metadata": {},
   "source": [
    "## Labels extraction\n",
    "The labels can be extracted from the directory in which the file was initially. Below is an example of the label extraction technique."
   ]
  },
  {
   "cell_type": "code",
   "execution_count": 10,
   "metadata": {},
   "outputs": [
    {
     "data": {
      "text/plain": [
       "'CLEAN_PDF_9000_files'"
      ]
     },
     "execution_count": 10,
     "metadata": {},
     "output_type": "execute_result"
    }
   ],
   "source": [
    "# Basic example\n",
    "filename = \"CSEC 620 Project/PDF's/CLEAN_PDF_9000_files\"\n",
    "re.findall('.*/(.*)', filename)[0]"
   ]
  },
  {
   "cell_type": "markdown",
   "metadata": {},
   "source": [
    "Once the technique approved, we apply it to the entire dataset."
   ]
  },
  {
   "cell_type": "code",
   "execution_count": 11,
   "metadata": {},
   "outputs": [],
   "source": [
    "label = files_red.Directory.map(lambda x: 'Benign' if 'CLEAN' in re.findall('.*/(.*)', x)[0] else 'Malware').copy()"
   ]
  },
  {
   "cell_type": "markdown",
   "metadata": {},
   "source": [
    "---"
   ]
  },
  {
   "cell_type": "markdown",
   "metadata": {},
   "source": [
    "## Features analysis\n",
    "Now we focus on the features that are kept. We first show all of them and study those individually. \n",
    "\n",
    "We will study:\n",
    "- the **missing values**: the reason why they are missing, and what should we replace them by.\n",
    "- the **variables format**: convert the variables to their right type.\n",
    "- the **consistency**: number of categories (grouping some categories for nominal variables, etc.).\n",
    "- the **new features**: some features can be created by extraction information about a feature. "
   ]
  },
  {
   "cell_type": "code",
   "execution_count": 12,
   "metadata": {},
   "outputs": [
    {
     "name": "stdout",
     "output_type": "stream",
     "text": [
      "n_features = 33\n"
     ]
    },
    {
     "data": {
      "text/plain": [
       "Index(['SourceFile', 'Author', 'CreateDate', 'Creator', 'CreatorTool',\n",
       "       'Description', 'Directory', 'DocumentID', 'ExifToolVersion',\n",
       "       'FileAccessDate', 'FileCreateDate', 'FileModifyDate', 'FileName',\n",
       "       'FilePermissions', 'FileSize', 'FileType', 'FileTypeExtension',\n",
       "       'Format', 'HasXFA', 'InstanceID', 'Keywords', 'Linearized',\n",
       "       'MetadataDate', 'MIMEType', 'ModifyDate', 'PageCount', 'PDFVersion',\n",
       "       'Producer', 'Subject', 'TaggedPDF', 'Title', 'Warning', 'XMPToolkit'],\n",
       "      dtype='object')"
      ]
     },
     "execution_count": 12,
     "metadata": {},
     "output_type": "execute_result"
    }
   ],
   "source": [
    "print(\"n_features =\", len(files_red.columns))\n",
    "files_red.columns"
   ]
  },
  {
   "cell_type": "markdown",
   "metadata": {},
   "source": [
    "This table contains all the features that can effectively be used for our study. Out of the 33 first variables, some are identifiers (all distinct values) and some are constant (file extension), we can't use those for the classification. "
   ]
  },
  {
   "cell_type": "code",
   "execution_count": 13,
   "metadata": {},
   "outputs": [
    {
     "data": {
      "text/html": [
       "<div>\n",
       "<style scoped>\n",
       "    .dataframe tbody tr th:only-of-type {\n",
       "        vertical-align: middle;\n",
       "    }\n",
       "\n",
       "    .dataframe tbody tr th {\n",
       "        vertical-align: top;\n",
       "    }\n",
       "\n",
       "    .dataframe thead th {\n",
       "        text-align: right;\n",
       "    }\n",
       "</style>\n",
       "<table border=\"1\" class=\"dataframe\">\n",
       "  <thead>\n",
       "    <tr style=\"text-align: right;\">\n",
       "      <th></th>\n",
       "      <th>Keywords</th>\n",
       "      <th>Linearized</th>\n",
       "      <th>ModifyDate</th>\n",
       "      <th>PageCount</th>\n",
       "      <th>PDFVersion</th>\n",
       "      <th>Producer</th>\n",
       "      <th>Subject</th>\n",
       "      <th>TaggedPDF</th>\n",
       "      <th>Title</th>\n",
       "      <th>Warning</th>\n",
       "    </tr>\n",
       "  </thead>\n",
       "  <tbody>\n",
       "    <tr>\n",
       "      <th>0</th>\n",
       "      <td>NaN</td>\n",
       "      <td>Yes</td>\n",
       "      <td>2006:04:06 08:48:54-04:00</td>\n",
       "      <td>34.0</td>\n",
       "      <td>1.4</td>\n",
       "      <td>Acrobat Distiller 5.0 (Windows)</td>\n",
       "      <td>NaN</td>\n",
       "      <td>NaN</td>\n",
       "      <td>Unrelated Business Income.pmd</td>\n",
       "      <td>NaN</td>\n",
       "    </tr>\n",
       "    <tr>\n",
       "      <th>1</th>\n",
       "      <td>NaN</td>\n",
       "      <td>No</td>\n",
       "      <td>2010:03:22 11:18:17-04:00</td>\n",
       "      <td>29.0</td>\n",
       "      <td>1.6</td>\n",
       "      <td>Acrobat Distiller 6.0.1 (Windows)</td>\n",
       "      <td>NaN</td>\n",
       "      <td>NaN</td>\n",
       "      <td>Transactions article.pmd</td>\n",
       "      <td>NaN</td>\n",
       "    </tr>\n",
       "    <tr>\n",
       "      <th>2</th>\n",
       "      <td>NaN</td>\n",
       "      <td>Yes</td>\n",
       "      <td>2005:09:28 08:16:58-04:00</td>\n",
       "      <td>34.0</td>\n",
       "      <td>1.4</td>\n",
       "      <td>Acrobat Distiller 6.0 (Windows)</td>\n",
       "      <td>NaN</td>\n",
       "      <td>NaN</td>\n",
       "      <td>Tax-Exempt Bonds, 1996-2002.pmd</td>\n",
       "      <td>NaN</td>\n",
       "    </tr>\n",
       "    <tr>\n",
       "      <th>3</th>\n",
       "      <td>NaN</td>\n",
       "      <td>No</td>\n",
       "      <td>NaN</td>\n",
       "      <td>59.0</td>\n",
       "      <td>1.2</td>\n",
       "      <td>Acrobat PDFWriter 5.0 for Windows NT</td>\n",
       "      <td>NaN</td>\n",
       "      <td>NaN</td>\n",
       "      <td>P:\\WILLIS\\Sum04\\ARTICL~1\\SOLEPR</td>\n",
       "      <td>NaN</td>\n",
       "    </tr>\n",
       "    <tr>\n",
       "      <th>4</th>\n",
       "      <td>copyright, anticircumvention, 1201</td>\n",
       "      <td>Yes</td>\n",
       "      <td>2002:04:29 11:59:37-04:00</td>\n",
       "      <td>5.0</td>\n",
       "      <td>1.4</td>\n",
       "      <td>Acrobat Distiller 4.0 for Windows</td>\n",
       "      <td>Comments on Exemption to Prohibition on Circum...</td>\n",
       "      <td>NaN</td>\n",
       "      <td>Comments on Exemption to Prohibition on Circum...</td>\n",
       "      <td>NaN</td>\n",
       "    </tr>\n",
       "    <tr>\n",
       "      <th>...</th>\n",
       "      <td>...</td>\n",
       "      <td>...</td>\n",
       "      <td>...</td>\n",
       "      <td>...</td>\n",
       "      <td>...</td>\n",
       "      <td>...</td>\n",
       "      <td>...</td>\n",
       "      <td>...</td>\n",
       "      <td>...</td>\n",
       "      <td>...</td>\n",
       "    </tr>\n",
       "    <tr>\n",
       "      <th>19974</th>\n",
       "      <td>NaN</td>\n",
       "      <td>No</td>\n",
       "      <td>NaN</td>\n",
       "      <td>NaN</td>\n",
       "      <td>1.3</td>\n",
       "      <td>NaN</td>\n",
       "      <td>NaN</td>\n",
       "      <td>NaN</td>\n",
       "      <td>NaN</td>\n",
       "      <td>Invalid xref table</td>\n",
       "    </tr>\n",
       "    <tr>\n",
       "      <th>19975</th>\n",
       "      <td>NaN</td>\n",
       "      <td>No</td>\n",
       "      <td>NaN</td>\n",
       "      <td>NaN</td>\n",
       "      <td>1.3</td>\n",
       "      <td>NaN</td>\n",
       "      <td>NaN</td>\n",
       "      <td>NaN</td>\n",
       "      <td>NaN</td>\n",
       "      <td>Invalid xref table</td>\n",
       "    </tr>\n",
       "    <tr>\n",
       "      <th>19976</th>\n",
       "      <td>NaN</td>\n",
       "      <td>No</td>\n",
       "      <td>NaN</td>\n",
       "      <td>NaN</td>\n",
       "      <td>1.6</td>\n",
       "      <td>NaN</td>\n",
       "      <td>NaN</td>\n",
       "      <td>NaN</td>\n",
       "      <td>NaN</td>\n",
       "      <td>Invalid xref table</td>\n",
       "    </tr>\n",
       "    <tr>\n",
       "      <th>19977</th>\n",
       "      <td>NaN</td>\n",
       "      <td>No</td>\n",
       "      <td>NaN</td>\n",
       "      <td>NaN</td>\n",
       "      <td>1.3</td>\n",
       "      <td>NaN</td>\n",
       "      <td>NaN</td>\n",
       "      <td>NaN</td>\n",
       "      <td>NaN</td>\n",
       "      <td>Invalid xref table</td>\n",
       "    </tr>\n",
       "    <tr>\n",
       "      <th>19978</th>\n",
       "      <td>NaN</td>\n",
       "      <td>No</td>\n",
       "      <td>NaN</td>\n",
       "      <td>NaN</td>\n",
       "      <td>1.3</td>\n",
       "      <td>NaN</td>\n",
       "      <td>NaN</td>\n",
       "      <td>NaN</td>\n",
       "      <td>NaN</td>\n",
       "      <td>Invalid xref table</td>\n",
       "    </tr>\n",
       "  </tbody>\n",
       "</table>\n",
       "<p>19979 rows × 10 columns</p>\n",
       "</div>"
      ],
      "text/plain": [
       "                                 Keywords Linearized  \\\n",
       "0                                     NaN        Yes   \n",
       "1                                     NaN         No   \n",
       "2                                     NaN        Yes   \n",
       "3                                     NaN         No   \n",
       "4      copyright, anticircumvention, 1201        Yes   \n",
       "...                                   ...        ...   \n",
       "19974                                 NaN         No   \n",
       "19975                                 NaN         No   \n",
       "19976                                 NaN         No   \n",
       "19977                                 NaN         No   \n",
       "19978                                 NaN         No   \n",
       "\n",
       "                      ModifyDate  PageCount  PDFVersion  \\\n",
       "0      2006:04:06 08:48:54-04:00       34.0         1.4   \n",
       "1      2010:03:22 11:18:17-04:00       29.0         1.6   \n",
       "2      2005:09:28 08:16:58-04:00       34.0         1.4   \n",
       "3                            NaN       59.0         1.2   \n",
       "4      2002:04:29 11:59:37-04:00        5.0         1.4   \n",
       "...                          ...        ...         ...   \n",
       "19974                        NaN        NaN         1.3   \n",
       "19975                        NaN        NaN         1.3   \n",
       "19976                        NaN        NaN         1.6   \n",
       "19977                        NaN        NaN         1.3   \n",
       "19978                        NaN        NaN         1.3   \n",
       "\n",
       "                                   Producer  \\\n",
       "0           Acrobat Distiller 5.0 (Windows)   \n",
       "1         Acrobat Distiller 6.0.1 (Windows)   \n",
       "2           Acrobat Distiller 6.0 (Windows)   \n",
       "3      Acrobat PDFWriter 5.0 for Windows NT   \n",
       "4         Acrobat Distiller 4.0 for Windows   \n",
       "...                                     ...   \n",
       "19974                                   NaN   \n",
       "19975                                   NaN   \n",
       "19976                                   NaN   \n",
       "19977                                   NaN   \n",
       "19978                                   NaN   \n",
       "\n",
       "                                                 Subject TaggedPDF  \\\n",
       "0                                                    NaN       NaN   \n",
       "1                                                    NaN       NaN   \n",
       "2                                                    NaN       NaN   \n",
       "3                                                    NaN       NaN   \n",
       "4      Comments on Exemption to Prohibition on Circum...       NaN   \n",
       "...                                                  ...       ...   \n",
       "19974                                                NaN       NaN   \n",
       "19975                                                NaN       NaN   \n",
       "19976                                                NaN       NaN   \n",
       "19977                                                NaN       NaN   \n",
       "19978                                                NaN       NaN   \n",
       "\n",
       "                                                   Title             Warning  \n",
       "0                          Unrelated Business Income.pmd                 NaN  \n",
       "1                               Transactions article.pmd                 NaN  \n",
       "2                        Tax-Exempt Bonds, 1996-2002.pmd                 NaN  \n",
       "3                        P:\\WILLIS\\Sum04\\ARTICL~1\\SOLEPR                 NaN  \n",
       "4      Comments on Exemption to Prohibition on Circum...                 NaN  \n",
       "...                                                  ...                 ...  \n",
       "19974                                                NaN  Invalid xref table  \n",
       "19975                                                NaN  Invalid xref table  \n",
       "19976                                                NaN  Invalid xref table  \n",
       "19977                                                NaN  Invalid xref table  \n",
       "19978                                                NaN  Invalid xref table  \n",
       "\n",
       "[19979 rows x 10 columns]"
      ]
     },
     "execution_count": 13,
     "metadata": {},
     "output_type": "execute_result"
    }
   ],
   "source": [
    "files_red\\\n",
    "    .drop(\n",
    "        [\n",
    "            'SourceFile', 'Directory', 'ExifToolVersion', 'FileAccessDate', 'FilePermissions',\\\n",
    "            'FileTypeExtension',  'FileType', 'Author', 'DocumentID', 'FileCreateDate', 'MIMEType',\n",
    "            'MetadataDate'\n",
    "        ], axis = 1)\\\n",
    "    .iloc[:, 10:20] # change the range to browse the features"
   ]
  },
  {
   "cell_type": "markdown",
   "metadata": {},
   "source": [
    "### Author/Creators\n",
    "\n",
    "Lots of similarity between those two features. We create a new flag if they are different and only keep the `Creator` feature and it has less missing values."
   ]
  },
  {
   "cell_type": "code",
   "execution_count": 14,
   "metadata": {},
   "outputs": [
    {
     "data": {
      "text/plain": [
       "13104"
      ]
     },
     "execution_count": 14,
     "metadata": {},
     "output_type": "execute_result"
    }
   ],
   "source": [
    "files_red.Author.isna().sum()"
   ]
  },
  {
   "cell_type": "code",
   "execution_count": 15,
   "metadata": {},
   "outputs": [],
   "source": [
    "isAuthorCreator = (files_red.Author == files_red.Creator)\n",
    "hasCreator = files_red.Creator.isna()\n",
    "\n",
    "Creator = files_red.Creator.copy()\n",
    "Creator[Creator.isna()] = \"None\""
   ]
  },
  {
   "cell_type": "markdown",
   "metadata": {},
   "source": [
    "### Creator Tool"
   ]
  },
  {
   "cell_type": "markdown",
   "metadata": {},
   "source": [
    "Removing some extra information help grouping the categories together as there are too much. Here are two examples of what is done for this purpose."
   ]
  },
  {
   "cell_type": "code",
   "execution_count": 16,
   "metadata": {},
   "outputs": [
    {
     "name": "stdout",
     "output_type": "stream",
     "text": [
      "Acrobat PDFMaker 8.1\n",
      "Adobe InDesign CS4\n"
     ]
    }
   ],
   "source": [
    "print(re.sub(' for .*', '', \"Acrobat PDFMaker 8.1 for Word\"))\n",
    "print(re.sub(' \\(.*\\)?', '', \"Adobe InDesign CS4 (6.0.6)\"))"
   ]
  },
  {
   "cell_type": "code",
   "execution_count": 17,
   "metadata": {},
   "outputs": [],
   "source": [
    "CreatorTool = files_red.CreatorTool.copy()\n",
    "\n",
    "CreatorTool = CreatorTool.map(lambda x: re.sub(' for .*',  '', x), na_action=\"ignore\")\n",
    "CreatorTool = CreatorTool.map(lambda x: re.sub(' \\(.*\\)?', '', x), na_action=\"ignore\")"
   ]
  },
  {
   "cell_type": "code",
   "execution_count": 18,
   "metadata": {},
   "outputs": [
    {
     "data": {
      "text/plain": [
       "Unknown                                                     14617\n",
       "Acrobat PDFMaker 8.1                                          955\n",
       "Adobe LiveCycle Designer ES 8.2                               942\n",
       "FUJITSU fi-6230dj                                             924\n",
       "PScript5.dll Version 5.2.2                                    645\n",
       "PScript5.dll Version 5.2                                      452\n",
       "Other                                                         256\n",
       "Amgraf OneForm Designer Plus                                  239\n",
       "Acrobat PDFMaker 7.0                                          109\n",
       "Acrobat PDFMaker 6.0                                           97\n",
       "FUJITSU fi-6230dj #2                                           84\n",
       "Adobe InDesign CS5                                             61\n",
       "Acrobat PDFMaker 8.0                                           59\n",
       "OneForm Designer Plus                                          56\n",
       "Adobe InDesign CS3                                             54\n",
       "Acrobat PDFMaker 9.1                                           54\n",
       "Federal Digital System, U. S. Government Printing Office       46\n",
       "ACOMP.exe   WinVer 1c15  Aug 31 2005                           45\n",
       "Adobe Acrobat 7.0                                              39\n",
       "OmniForm Premium                                               39\n",
       "OmniForm                                                       38\n",
       "Adobe InDesign CS4                                             38\n",
       "Mecca III(TM) 10.00                                            35\n",
       "ACOMP.exe   WinVer 1b43  jul 14 2003                           26\n",
       "Adobe LiveCycle Designer ES 9.0                                24\n",
       "Acrobat PDFMaker 9.0                                           23\n",
       "Adobe InDesign CS2                                             22\n",
       "Name: CreatorTool, dtype: int64"
      ]
     },
     "execution_count": 18,
     "metadata": {},
     "output_type": "execute_result"
    }
   ],
   "source": [
    "counts = CreatorTool.value_counts()\n",
    "to_throw = list(counts.index[counts<20].values)\n",
    "\n",
    "CreatorTool = CreatorTool.map(lambda x: \"Other\" if x in to_throw else x, na_action=\"ignore\")\n",
    "CreatorTool[CreatorTool.isna()] = \"Unknown\"\n",
    "\n",
    "CreatorTool.value_counts()"
   ]
  },
  {
   "cell_type": "markdown",
   "metadata": {},
   "source": [
    "*Note: we also group the categories that have the smallest number of values together and group the NaN in an unknwown category.* "
   ]
  },
  {
   "cell_type": "markdown",
   "metadata": {},
   "source": [
    "### Producer\n",
    "\n",
    "The same protocol as `CreatorTool` has been applied to `Producer`."
   ]
  },
  {
   "cell_type": "code",
   "execution_count": 19,
   "metadata": {},
   "outputs": [],
   "source": [
    "Producer = files_red.Producer.copy()\n",
    "\n",
    "Producer = Producer.map(lambda x: re.sub(' for .*',  '', x), na_action=\"ignore\")\n",
    "Producer = Producer.map(lambda x: re.sub(' \\(.*\\)?', '', x), na_action=\"ignore\")"
   ]
  },
  {
   "cell_type": "code",
   "execution_count": 20,
   "metadata": {},
   "outputs": [
    {
     "data": {
      "text/plain": [
       "Unknown                                               10718\n",
       "Other                                                  1066\n",
       "Adobe LiveCycle Designer ES 8.2                         941\n",
       "Hewlett-Packard Intelligent Scanning Technology\\r3      877\n",
       "PDFScanLib v1.2.2 in Adobe Acrobat 8.1.1                562\n",
       "Acrobat Distiller 8.1.0                                 540\n",
       "Acrobat 4.0 Scan Plug-in                                470\n",
       "Acrobat Distiller 5.0.5                                 470\n",
       "Adobe Acrobat 9.0 Paper Capture Plug-in                 373\n",
       "Acrobat Distiller 4.0                                   338\n",
       "Acrobat Distiller 6.0.1                                 285\n",
       "Acrobat Distiller 6.0                                   284\n",
       "Adobe PDF Library 5.0.2                                 263\n",
       "Acrobat Distiller 8.2.5                                 209\n",
       "Acrobat Distiller 8.2.6                                 206\n",
       "Acrobat Distiller 5.0                                   205\n",
       "Acrobat Distiller 7.0                                   171\n",
       "Acrobat Distiller 4.05                                  159\n",
       "Acrobat Distiller 7.0.5                                 148\n",
       "Acrobat 3.0 Scan Plug-in                                140\n",
       "Acrobat Distiller 3.0                                   136\n",
       "Acrobat Distiller 8.2.2                                 128\n",
       "Acrobat 5.0 Scan Plug-in                                108\n",
       "Acrobat Distiller 8.3.0                                 106\n",
       "Acrobat Distiller 8.2.3                                  96\n",
       "Acrobat Distiller 8.0.0                                  95\n",
       "OneForm Designer Plus PDF Forms Generator                88\n",
       "APJavaScript 2.2.1 Windows SPDF_1112 Oct  3 2005         86\n",
       "Adobe PDF Library 9.0                                    83\n",
       "Acrobat Distiller 9.4.0                                  78\n",
       "Adobe PDF Library 9.9                                    75\n",
       "Acrobat PDFWriter 5.0                                    75\n",
       "Acrobat Distiller 8.2.0                                  74\n",
       "Acrobat PDFWriter 4.0                                    62\n",
       "OmniForm Converter                                       55\n",
       "Adobe Acrobat 8.26 Paper Capture Plug-in                 54\n",
       "Adobe PDF Library 8.0                                    53\n",
       "Acrobat Net Distiller 1.0                                52\n",
       "Acrobat Distiller 3.01                                   50\n",
       "Name: Producer, dtype: int64"
      ]
     },
     "execution_count": 20,
     "metadata": {},
     "output_type": "execute_result"
    }
   ],
   "source": [
    "counts = Producer.value_counts()\n",
    "to_throw = list(counts.index[counts<50].values)\n",
    "\n",
    "Producer = Producer.map(lambda x: \"Other\" if x in to_throw else x, na_action=\"ignore\")\n",
    "Producer[Producer.isna()] = \"Unknown\"\n",
    "\n",
    "Producer.value_counts()"
   ]
  },
  {
   "cell_type": "markdown",
   "metadata": {},
   "source": [
    "### Description\n",
    "`Description` is a description text. Only the presence of a description has been set as a new feature out of the information given by `Description`. "
   ]
  },
  {
   "cell_type": "code",
   "execution_count": 21,
   "metadata": {},
   "outputs": [],
   "source": [
    "hasDescription = files_red.Description.copy()"
   ]
  },
  {
   "cell_type": "code",
   "execution_count": 22,
   "metadata": {},
   "outputs": [
    {
     "data": {
      "text/plain": [
       "False    17004\n",
       "True      2975\n",
       "Name: Description, dtype: int64"
      ]
     },
     "execution_count": 22,
     "metadata": {},
     "output_type": "execute_result"
    }
   ],
   "source": [
    "hasDescription = hasDescription.map(lambda x: not(pd.isna(x)))\n",
    "hasDescription.value_counts()"
   ]
  },
  {
   "cell_type": "markdown",
   "metadata": {},
   "source": [
    "### Warning\n",
    "Check the presence of warning."
   ]
  },
  {
   "cell_type": "code",
   "execution_count": 23,
   "metadata": {},
   "outputs": [
    {
     "data": {
      "text/plain": [
       "True     10077\n",
       "False     9902\n",
       "Name: Warning, dtype: int64"
      ]
     },
     "execution_count": 23,
     "metadata": {},
     "output_type": "execute_result"
    }
   ],
   "source": [
    "hasWarning = files_red.Warning.copy()\n",
    "hasWarning = hasWarning.map(lambda x: not(pd.isna(x)))\n",
    "hasWarning.value_counts()"
   ]
  },
  {
   "cell_type": "markdown",
   "metadata": {},
   "source": [
    "### Title\n",
    "Check the presence of a title."
   ]
  },
  {
   "cell_type": "code",
   "execution_count": 24,
   "metadata": {},
   "outputs": [
    {
     "data": {
      "text/plain": [
       "False    13558\n",
       "True      6421\n",
       "Name: Title, dtype: int64"
      ]
     },
     "execution_count": 24,
     "metadata": {},
     "output_type": "execute_result"
    }
   ],
   "source": [
    "hasTitle = files_red.Title.copy()\n",
    "hasTitle = hasTitle.map(lambda x: not(pd.isna(x)))\n",
    "hasTitle.value_counts()"
   ]
  },
  {
   "cell_type": "markdown",
   "metadata": {},
   "source": [
    "### Tagged pdf\n",
    "Check if the pdf is tagged."
   ]
  },
  {
   "cell_type": "code",
   "execution_count": 25,
   "metadata": {},
   "outputs": [
    {
     "data": {
      "text/plain": [
       "False    16443\n",
       "True      3536\n",
       "Name: TaggedPDF, dtype: int64"
      ]
     },
     "execution_count": 25,
     "metadata": {},
     "output_type": "execute_result"
    }
   ],
   "source": [
    "TaggedPDF = files_red.TaggedPDF.copy()\n",
    "TaggedPDF = TaggedPDF.map(lambda x: not(pd.isna(x)))\n",
    "TaggedPDF.value_counts()"
   ]
  },
  {
   "cell_type": "markdown",
   "metadata": {},
   "source": [
    "### Keywords\n",
    "\n",
    "Check the presence of keywords."
   ]
  },
  {
   "cell_type": "code",
   "execution_count": 26,
   "metadata": {},
   "outputs": [],
   "source": [
    "hasKeywords = files_red.Keywords.copy()"
   ]
  },
  {
   "cell_type": "code",
   "execution_count": 27,
   "metadata": {},
   "outputs": [
    {
     "data": {
      "text/plain": [
       "False    17687\n",
       "True      2292\n",
       "Name: Keywords, dtype: int64"
      ]
     },
     "execution_count": 27,
     "metadata": {},
     "output_type": "execute_result"
    }
   ],
   "source": [
    "hasKeywords = hasKeywords.map(lambda x: not(pd.isna(x)))\n",
    "hasKeywords.value_counts()"
   ]
  },
  {
   "cell_type": "markdown",
   "metadata": {},
   "source": [
    "### Subject\n",
    "\n",
    "Check the presence of a subject."
   ]
  },
  {
   "cell_type": "code",
   "execution_count": 28,
   "metadata": {},
   "outputs": [
    {
     "data": {
      "text/plain": [
       "False    15896\n",
       "True      4083\n",
       "Name: Subject, dtype: int64"
      ]
     },
     "execution_count": 28,
     "metadata": {},
     "output_type": "execute_result"
    }
   ],
   "source": [
    "hasSubject = files_red.Subject.copy()\n",
    "hasSubject = hasSubject.map(lambda x: not(pd.isna(x)))\n",
    "hasSubject.value_counts()"
   ]
  },
  {
   "cell_type": "markdown",
   "metadata": {},
   "source": [
    "### Linearized\n",
    "\n",
    "Check if the document in linearized."
   ]
  },
  {
   "cell_type": "code",
   "execution_count": 29,
   "metadata": {},
   "outputs": [
    {
     "data": {
      "text/plain": [
       "False    14307\n",
       "True      5672\n",
       "Name: Linearized, dtype: int64"
      ]
     },
     "execution_count": 29,
     "metadata": {},
     "output_type": "execute_result"
    }
   ],
   "source": [
    "Linearized = files_red.Linearized.copy()\n",
    "Linearized = Linearized.map(lambda x: x == \"Yes\")\n",
    "Linearized.value_counts()"
   ]
  },
  {
   "cell_type": "markdown",
   "metadata": {},
   "source": [
    "### Date\n",
    "\n",
    "Importation of information about the dates: creation date, modification date."
   ]
  },
  {
   "cell_type": "code",
   "execution_count": 30,
   "metadata": {},
   "outputs": [],
   "source": [
    "import dateparser"
   ]
  },
  {
   "cell_type": "code",
   "execution_count": 31,
   "metadata": {},
   "outputs": [
    {
     "data": {
      "text/plain": [
       "datetime.datetime(2006, 4, 5, 9, 30, 37, tzinfo=<StaticTzInfo 'UTC\\-04:00'>)"
      ]
     },
     "execution_count": 31,
     "metadata": {},
     "output_type": "execute_result"
    }
   ],
   "source": [
    "def reformat_date(string):\n",
    "    return string[:10].replace(':', '/') + string[10:]\n",
    "\n",
    "dateparser.parse(reformat_date(\"2006:04:05 09:30:37-04:00\"))"
   ]
  },
  {
   "cell_type": "markdown",
   "metadata": {},
   "source": [
    "#### File Creation Date"
   ]
  },
  {
   "cell_type": "code",
   "execution_count": 32,
   "metadata": {},
   "outputs": [],
   "source": [
    "CreateDate = files_red.CreateDate.copy()\n",
    "CreateDate = CreateDate.map( lambda x: dateparser.parse(reformat_date(x)), na_action=\"ignore\")"
   ]
  },
  {
   "cell_type": "markdown",
   "metadata": {},
   "source": [
    "#### File Modification Date"
   ]
  },
  {
   "cell_type": "code",
   "execution_count": 33,
   "metadata": {},
   "outputs": [],
   "source": [
    "FileModifyDate = files_red.FileModifyDate.copy()\n",
    "FileModifyDate = FileModifyDate.map( lambda x: dateparser.parse(reformat_date(x)), na_action=\"ignore\")"
   ]
  },
  {
   "cell_type": "markdown",
   "metadata": {},
   "source": [
    "#### Modification Date"
   ]
  },
  {
   "cell_type": "code",
   "execution_count": 34,
   "metadata": {},
   "outputs": [],
   "source": [
    "ModifyDate = files_red.ModifyDate.copy()\n",
    "ModifyDate = ModifyDate.map( lambda x: dateparser.parse(reformat_date(x)), na_action=\"ignore\")"
   ]
  },
  {
   "cell_type": "markdown",
   "metadata": {},
   "source": [
    "#### Modification Timezone"
   ]
  },
  {
   "cell_type": "code",
   "execution_count": 35,
   "metadata": {},
   "outputs": [],
   "source": [
    "ModificationTZ = ModifyDate.copy()\n",
    "ModificationTZ = ModificationTZ.map(lambda x: x.tzname(), na_action=\"ignore\")\n",
    "\n",
    "counts = ModificationTZ.value_counts()\n",
    "to_throw = list(counts.index[counts<10].values)\n",
    "\n",
    "ModificationTZ = ModificationTZ.map(lambda x: \"Other\" if x in to_throw else x, na_action=\"ignore\")\n",
    "ModificationTZ[ModificationTZ.isna()] = \"Unknown\""
   ]
  },
  {
   "cell_type": "code",
   "execution_count": 36,
   "metadata": {},
   "outputs": [
    {
     "name": "stdout",
     "output_type": "stream",
     "text": [
      "n =  19979\n"
     ]
    },
    {
     "data": {
      "text/plain": [
       "Unknown       12281\n",
       "UTC\\-04:00     3938\n",
       "UTC\\-05:00     3192\n",
       "UTC\\-03:00      228\n",
       "UTC\\-06:00       87\n",
       "UTC\\+08:00       66\n",
       "Z                51\n",
       "UTC\\+03:00       46\n",
       "UTC\\-08:00       34\n",
       "UTC\\-07:00       21\n",
       "UTC\\+04:00       19\n",
       "Other            16\n",
       "Name: ModifyDate, dtype: int64"
      ]
     },
     "execution_count": 36,
     "metadata": {},
     "output_type": "execute_result"
    }
   ],
   "source": [
    "print(\"n = \", ModificationTZ.value_counts().sum())\n",
    "ModificationTZ.value_counts()"
   ]
  },
  {
   "cell_type": "markdown",
   "metadata": {},
   "source": [
    "#### Creation Year"
   ]
  },
  {
   "cell_type": "code",
   "execution_count": 37,
   "metadata": {},
   "outputs": [],
   "source": [
    "CreationYear = CreateDate.copy()\n",
    "CreationYear = CreationYear.map(lambda x: str(x.year), na_action=\"ignore\")\n",
    "CreationYear[CreationYear.isna()] = \"Unknown\""
   ]
  },
  {
   "cell_type": "markdown",
   "metadata": {},
   "source": [
    "#### Modification Year"
   ]
  },
  {
   "cell_type": "code",
   "execution_count": 38,
   "metadata": {},
   "outputs": [],
   "source": [
    "ModificationYear = ModifyDate.copy()\n",
    "ModificationYear = ModificationYear.map(lambda x: str(x.year), na_action=\"ignore\")\n",
    "ModificationYear[ModificationYear.isna()] = \"Unknown\""
   ]
  },
  {
   "cell_type": "markdown",
   "metadata": {},
   "source": [
    "### Filename\n",
    "\n",
    "Extract the name of the file. It can be an useful identifier of the samples. We also create an identifier for the length of the filename."
   ]
  },
  {
   "cell_type": "code",
   "execution_count": 39,
   "metadata": {},
   "outputs": [],
   "source": [
    "FileName = files_red.FileName.copy()"
   ]
  },
  {
   "cell_type": "code",
   "execution_count": 40,
   "metadata": {},
   "outputs": [],
   "source": [
    "LenFileName = FileName.map(lambda x: len(x))"
   ]
  },
  {
   "cell_type": "markdown",
   "metadata": {},
   "source": [
    "### PageCount\n",
    "\n",
    "Number of pages which is set to 0 if there isn't any page."
   ]
  },
  {
   "cell_type": "code",
   "execution_count": 41,
   "metadata": {},
   "outputs": [],
   "source": [
    "PageCount = files_red.PageCount.copy()\n",
    "PageCount[PageCount.isna()] = 0"
   ]
  },
  {
   "cell_type": "markdown",
   "metadata": {},
   "source": [
    "### PDFVersion\n",
    "Extract the PDF version. The version is rounded to its first decimal to avoid too much categories."
   ]
  },
  {
   "cell_type": "code",
   "execution_count": 42,
   "metadata": {},
   "outputs": [
    {
     "data": {
      "text/plain": [
       "1.3         8358\n",
       "1.4         3938\n",
       "1.7         2174\n",
       "1.6         1994\n",
       "1.2         1520\n",
       "Unknwown     708\n",
       "1.0          581\n",
       "1.5          491\n",
       "1.1          215\n",
       "Name: PDFVersion, dtype: int64"
      ]
     },
     "execution_count": 42,
     "metadata": {},
     "output_type": "execute_result"
    }
   ],
   "source": [
    "PDFVersion = files_red.PDFVersion.copy()\n",
    "\n",
    "PDFVersion = PDFVersion.map(lambda x: str(np.round(x, 1)), na_action=\"ignore\")\n",
    "PDFVersion[PDFVersion.isna()] = 'Unknwown'\n",
    "\n",
    "PDFVersion.value_counts()"
   ]
  },
  {
   "cell_type": "markdown",
   "metadata": {},
   "source": [
    "### File size\n",
    "\n",
    "Extraction of information about the size. Some sizes are in `bytes` and need to be converted."
   ]
  },
  {
   "cell_type": "code",
   "execution_count": 43,
   "metadata": {},
   "outputs": [],
   "source": [
    "FileSize = files_red.FileSize.copy()\n",
    "FileSize = FileSize.map(lambda x: float(x.replace(\"KiB\", \"\")) if \"KiB\" in x else int(x.replace(\"bytes\", \"\"))/1024)"
   ]
  },
  {
   "cell_type": "markdown",
   "metadata": {},
   "source": [
    "### HasXFA\n",
    "\n",
    "Check if the files has XFA."
   ]
  },
  {
   "cell_type": "code",
   "execution_count": 44,
   "metadata": {},
   "outputs": [
    {
     "data": {
      "text/plain": [
       "False    19318\n",
       "True       661\n",
       "Name: HasXFA, dtype: int64"
      ]
     },
     "execution_count": 44,
     "metadata": {},
     "output_type": "execute_result"
    }
   ],
   "source": [
    "HasXFA = files_red.HasXFA.copy()\n",
    "HasXFA[HasXFA.isna()] = 'No'\n",
    "HasXFA = HasXFA.map(lambda x: x == \"Yes\" )\n",
    "\n",
    "HasXFA.value_counts()"
   ]
  },
  {
   "cell_type": "markdown",
   "metadata": {},
   "source": [
    "### XMPToolkit\n",
    "\n",
    "Check if the file has XML Toolkit."
   ]
  },
  {
   "cell_type": "code",
   "execution_count": 45,
   "metadata": {},
   "outputs": [
    {
     "data": {
      "text/plain": [
       "False    14142\n",
       "True      5837\n",
       "Name: XMPToolkit, dtype: int64"
      ]
     },
     "execution_count": 45,
     "metadata": {},
     "output_type": "execute_result"
    }
   ],
   "source": [
    "hasXMPToolkit = files_red.XMPToolkit.copy()\n",
    "hasXMPToolkit = hasXMPToolkit.map(lambda x: not(pd.isna(x)))\n",
    "hasXMPToolkit.value_counts()"
   ]
  },
  {
   "cell_type": "markdown",
   "metadata": {},
   "source": [
    "---"
   ]
  },
  {
   "cell_type": "markdown",
   "metadata": {},
   "source": [
    "## Data Frame Creation\n",
    "\n",
    "Here is a summary of the kept variables and their type:\n",
    "\n",
    "*Identifiers*:\n",
    "- `Filename`\n",
    "- `label`\n",
    "\n",
    "*Continuous*:\n",
    "- `CreateDate`\n",
    "- `ModifyDate`\n",
    "- `FileModifyDate`\n",
    "- `PageCount`\n",
    "- `FileSize`\n",
    "- `LenFileName`\n",
    "\n",
    "*Categorical*:\n",
    "- `hasCreator`\n",
    "- `CreationYear`\n",
    "- `ModificationYear`\n",
    "- `ModificationTZ`\n",
    "- `isAuthorCreator`\n",
    "- `CreatorTool`\n",
    "- `Producer`\n",
    "- `hasWarning`\n",
    "- `TaggedPDF`\n",
    "- `hasTitle`\n",
    "- `hasKeywords`\n",
    "- `hasSubject`\n",
    "- `hasDescription`\n",
    "- `Linearized`\n",
    "- `PDFVersion`\n",
    "- `HasXFA`\n",
    "- `hasXMPToolkit`"
   ]
  },
  {
   "cell_type": "markdown",
   "metadata": {},
   "source": [
    "### Creating final dataset"
   ]
  },
  {
   "cell_type": "code",
   "execution_count": 46,
   "metadata": {},
   "outputs": [
    {
     "data": {
      "text/html": [
       "<div>\n",
       "<style scoped>\n",
       "    .dataframe tbody tr th:only-of-type {\n",
       "        vertical-align: middle;\n",
       "    }\n",
       "\n",
       "    .dataframe tbody tr th {\n",
       "        vertical-align: top;\n",
       "    }\n",
       "\n",
       "    .dataframe thead th {\n",
       "        text-align: right;\n",
       "    }\n",
       "</style>\n",
       "<table border=\"1\" class=\"dataframe\">\n",
       "  <thead>\n",
       "    <tr style=\"text-align: right;\">\n",
       "      <th></th>\n",
       "      <th>hasCreator</th>\n",
       "      <th>isAuthorCreator</th>\n",
       "      <th>CreatorTool</th>\n",
       "      <th>Producer</th>\n",
       "      <th>hasWarning</th>\n",
       "      <th>TaggedPDF</th>\n",
       "      <th>hasTitle</th>\n",
       "      <th>hasKeywords</th>\n",
       "      <th>hasSubject</th>\n",
       "      <th>hasDescription</th>\n",
       "      <th>...</th>\n",
       "      <th>HasXFA</th>\n",
       "      <th>hasXMPToolkit</th>\n",
       "      <th>ModificationTZ</th>\n",
       "      <th>CreationYear</th>\n",
       "      <th>ModificationYear</th>\n",
       "      <th>CreateDate</th>\n",
       "      <th>ModifyDate</th>\n",
       "      <th>PageCount</th>\n",
       "      <th>FileSize</th>\n",
       "      <th>LenFileName</th>\n",
       "    </tr>\n",
       "  </thead>\n",
       "  <tbody>\n",
       "    <tr>\n",
       "      <th>0</th>\n",
       "      <td>False</td>\n",
       "      <td>True</td>\n",
       "      <td>Other</td>\n",
       "      <td>Acrobat Distiller 5.0</td>\n",
       "      <td>False</td>\n",
       "      <td>False</td>\n",
       "      <td>True</td>\n",
       "      <td>False</td>\n",
       "      <td>False</td>\n",
       "      <td>False</td>\n",
       "      <td>...</td>\n",
       "      <td>False</td>\n",
       "      <td>True</td>\n",
       "      <td>UTC\\-04:00</td>\n",
       "      <td>2006</td>\n",
       "      <td>2006</td>\n",
       "      <td>2006-03-30 14:09:13+00:00</td>\n",
       "      <td>2006-04-06 08:48:54-04:00</td>\n",
       "      <td>34.0</td>\n",
       "      <td>388.0</td>\n",
       "      <td>13</td>\n",
       "    </tr>\n",
       "    <tr>\n",
       "      <th>1</th>\n",
       "      <td>False</td>\n",
       "      <td>True</td>\n",
       "      <td>Other</td>\n",
       "      <td>Acrobat Distiller 6.0.1</td>\n",
       "      <td>False</td>\n",
       "      <td>False</td>\n",
       "      <td>True</td>\n",
       "      <td>False</td>\n",
       "      <td>False</td>\n",
       "      <td>False</td>\n",
       "      <td>...</td>\n",
       "      <td>False</td>\n",
       "      <td>True</td>\n",
       "      <td>UTC\\-04:00</td>\n",
       "      <td>2006</td>\n",
       "      <td>2010</td>\n",
       "      <td>2006-04-05 09:30:37-04:00</td>\n",
       "      <td>2010-03-22 11:18:17-04:00</td>\n",
       "      <td>29.0</td>\n",
       "      <td>245.0</td>\n",
       "      <td>12</td>\n",
       "    </tr>\n",
       "    <tr>\n",
       "      <th>2</th>\n",
       "      <td>False</td>\n",
       "      <td>True</td>\n",
       "      <td>Other</td>\n",
       "      <td>Acrobat Distiller 6.0</td>\n",
       "      <td>False</td>\n",
       "      <td>False</td>\n",
       "      <td>True</td>\n",
       "      <td>False</td>\n",
       "      <td>False</td>\n",
       "      <td>False</td>\n",
       "      <td>...</td>\n",
       "      <td>False</td>\n",
       "      <td>True</td>\n",
       "      <td>UTC\\-04:00</td>\n",
       "      <td>2005</td>\n",
       "      <td>2005</td>\n",
       "      <td>2005-09-28 08:16:58-04:00</td>\n",
       "      <td>2005-09-28 08:16:58-04:00</td>\n",
       "      <td>34.0</td>\n",
       "      <td>241.0</td>\n",
       "      <td>12</td>\n",
       "    </tr>\n",
       "    <tr>\n",
       "      <th>3</th>\n",
       "      <td>False</td>\n",
       "      <td>False</td>\n",
       "      <td>Unknown</td>\n",
       "      <td>Acrobat PDFWriter 5.0</td>\n",
       "      <td>False</td>\n",
       "      <td>False</td>\n",
       "      <td>True</td>\n",
       "      <td>False</td>\n",
       "      <td>False</td>\n",
       "      <td>False</td>\n",
       "      <td>...</td>\n",
       "      <td>False</td>\n",
       "      <td>False</td>\n",
       "      <td>Unknown</td>\n",
       "      <td>2004</td>\n",
       "      <td>Unknown</td>\n",
       "      <td>2004-09-30 13:47:07</td>\n",
       "      <td>NaN</td>\n",
       "      <td>59.0</td>\n",
       "      <td>359.0</td>\n",
       "      <td>10</td>\n",
       "    </tr>\n",
       "    <tr>\n",
       "      <th>4</th>\n",
       "      <td>False</td>\n",
       "      <td>True</td>\n",
       "      <td>Unknown</td>\n",
       "      <td>Acrobat Distiller 4.0</td>\n",
       "      <td>False</td>\n",
       "      <td>False</td>\n",
       "      <td>True</td>\n",
       "      <td>True</td>\n",
       "      <td>True</td>\n",
       "      <td>True</td>\n",
       "      <td>...</td>\n",
       "      <td>False</td>\n",
       "      <td>False</td>\n",
       "      <td>UTC\\-04:00</td>\n",
       "      <td>2000</td>\n",
       "      <td>2002</td>\n",
       "      <td>2000-02-10 09:37:43+00:00</td>\n",
       "      <td>2002-04-29 11:59:37-04:00</td>\n",
       "      <td>5.0</td>\n",
       "      <td>32.0</td>\n",
       "      <td>7</td>\n",
       "    </tr>\n",
       "    <tr>\n",
       "      <th>...</th>\n",
       "      <td>...</td>\n",
       "      <td>...</td>\n",
       "      <td>...</td>\n",
       "      <td>...</td>\n",
       "      <td>...</td>\n",
       "      <td>...</td>\n",
       "      <td>...</td>\n",
       "      <td>...</td>\n",
       "      <td>...</td>\n",
       "      <td>...</td>\n",
       "      <td>...</td>\n",
       "      <td>...</td>\n",
       "      <td>...</td>\n",
       "      <td>...</td>\n",
       "      <td>...</td>\n",
       "      <td>...</td>\n",
       "      <td>...</td>\n",
       "      <td>...</td>\n",
       "      <td>...</td>\n",
       "      <td>...</td>\n",
       "      <td>...</td>\n",
       "    </tr>\n",
       "    <tr>\n",
       "      <th>19974</th>\n",
       "      <td>True</td>\n",
       "      <td>False</td>\n",
       "      <td>Unknown</td>\n",
       "      <td>Unknown</td>\n",
       "      <td>True</td>\n",
       "      <td>False</td>\n",
       "      <td>False</td>\n",
       "      <td>False</td>\n",
       "      <td>False</td>\n",
       "      <td>False</td>\n",
       "      <td>...</td>\n",
       "      <td>False</td>\n",
       "      <td>False</td>\n",
       "      <td>Unknown</td>\n",
       "      <td>Unknown</td>\n",
       "      <td>Unknown</td>\n",
       "      <td>NaN</td>\n",
       "      <td>NaN</td>\n",
       "      <td>0.0</td>\n",
       "      <td>299.0</td>\n",
       "      <td>44</td>\n",
       "    </tr>\n",
       "    <tr>\n",
       "      <th>19975</th>\n",
       "      <td>True</td>\n",
       "      <td>False</td>\n",
       "      <td>Unknown</td>\n",
       "      <td>Unknown</td>\n",
       "      <td>True</td>\n",
       "      <td>False</td>\n",
       "      <td>False</td>\n",
       "      <td>False</td>\n",
       "      <td>False</td>\n",
       "      <td>False</td>\n",
       "      <td>...</td>\n",
       "      <td>False</td>\n",
       "      <td>False</td>\n",
       "      <td>Unknown</td>\n",
       "      <td>Unknown</td>\n",
       "      <td>Unknown</td>\n",
       "      <td>NaN</td>\n",
       "      <td>NaN</td>\n",
       "      <td>0.0</td>\n",
       "      <td>9.6</td>\n",
       "      <td>44</td>\n",
       "    </tr>\n",
       "    <tr>\n",
       "      <th>19976</th>\n",
       "      <td>True</td>\n",
       "      <td>False</td>\n",
       "      <td>Unknown</td>\n",
       "      <td>Unknown</td>\n",
       "      <td>True</td>\n",
       "      <td>False</td>\n",
       "      <td>False</td>\n",
       "      <td>False</td>\n",
       "      <td>False</td>\n",
       "      <td>False</td>\n",
       "      <td>...</td>\n",
       "      <td>False</td>\n",
       "      <td>False</td>\n",
       "      <td>Unknown</td>\n",
       "      <td>Unknown</td>\n",
       "      <td>Unknown</td>\n",
       "      <td>NaN</td>\n",
       "      <td>NaN</td>\n",
       "      <td>0.0</td>\n",
       "      <td>15.0</td>\n",
       "      <td>44</td>\n",
       "    </tr>\n",
       "    <tr>\n",
       "      <th>19977</th>\n",
       "      <td>True</td>\n",
       "      <td>False</td>\n",
       "      <td>Unknown</td>\n",
       "      <td>Unknown</td>\n",
       "      <td>True</td>\n",
       "      <td>False</td>\n",
       "      <td>False</td>\n",
       "      <td>False</td>\n",
       "      <td>False</td>\n",
       "      <td>False</td>\n",
       "      <td>...</td>\n",
       "      <td>False</td>\n",
       "      <td>False</td>\n",
       "      <td>Unknown</td>\n",
       "      <td>Unknown</td>\n",
       "      <td>Unknown</td>\n",
       "      <td>NaN</td>\n",
       "      <td>NaN</td>\n",
       "      <td>0.0</td>\n",
       "      <td>7.5</td>\n",
       "      <td>44</td>\n",
       "    </tr>\n",
       "    <tr>\n",
       "      <th>19978</th>\n",
       "      <td>True</td>\n",
       "      <td>False</td>\n",
       "      <td>Unknown</td>\n",
       "      <td>Unknown</td>\n",
       "      <td>True</td>\n",
       "      <td>False</td>\n",
       "      <td>False</td>\n",
       "      <td>False</td>\n",
       "      <td>False</td>\n",
       "      <td>False</td>\n",
       "      <td>...</td>\n",
       "      <td>False</td>\n",
       "      <td>False</td>\n",
       "      <td>Unknown</td>\n",
       "      <td>Unknown</td>\n",
       "      <td>Unknown</td>\n",
       "      <td>NaN</td>\n",
       "      <td>NaN</td>\n",
       "      <td>0.0</td>\n",
       "      <td>9.2</td>\n",
       "      <td>44</td>\n",
       "    </tr>\n",
       "  </tbody>\n",
       "</table>\n",
       "<p>19979 rows × 22 columns</p>\n",
       "</div>"
      ],
      "text/plain": [
       "       hasCreator  isAuthorCreator CreatorTool                 Producer  \\\n",
       "0           False             True       Other    Acrobat Distiller 5.0   \n",
       "1           False             True       Other  Acrobat Distiller 6.0.1   \n",
       "2           False             True       Other    Acrobat Distiller 6.0   \n",
       "3           False            False     Unknown    Acrobat PDFWriter 5.0   \n",
       "4           False             True     Unknown    Acrobat Distiller 4.0   \n",
       "...           ...              ...         ...                      ...   \n",
       "19974        True            False     Unknown                  Unknown   \n",
       "19975        True            False     Unknown                  Unknown   \n",
       "19976        True            False     Unknown                  Unknown   \n",
       "19977        True            False     Unknown                  Unknown   \n",
       "19978        True            False     Unknown                  Unknown   \n",
       "\n",
       "       hasWarning  TaggedPDF  hasTitle  hasKeywords  hasSubject  \\\n",
       "0           False      False      True        False       False   \n",
       "1           False      False      True        False       False   \n",
       "2           False      False      True        False       False   \n",
       "3           False      False      True        False       False   \n",
       "4           False      False      True         True        True   \n",
       "...           ...        ...       ...          ...         ...   \n",
       "19974        True      False     False        False       False   \n",
       "19975        True      False     False        False       False   \n",
       "19976        True      False     False        False       False   \n",
       "19977        True      False     False        False       False   \n",
       "19978        True      False     False        False       False   \n",
       "\n",
       "       hasDescription  ...  HasXFA hasXMPToolkit  ModificationTZ  \\\n",
       "0               False  ...   False          True      UTC\\-04:00   \n",
       "1               False  ...   False          True      UTC\\-04:00   \n",
       "2               False  ...   False          True      UTC\\-04:00   \n",
       "3               False  ...   False         False         Unknown   \n",
       "4                True  ...   False         False      UTC\\-04:00   \n",
       "...               ...  ...     ...           ...             ...   \n",
       "19974           False  ...   False         False         Unknown   \n",
       "19975           False  ...   False         False         Unknown   \n",
       "19976           False  ...   False         False         Unknown   \n",
       "19977           False  ...   False         False         Unknown   \n",
       "19978           False  ...   False         False         Unknown   \n",
       "\n",
       "       CreationYear ModificationYear                 CreateDate  \\\n",
       "0              2006             2006  2006-03-30 14:09:13+00:00   \n",
       "1              2006             2010  2006-04-05 09:30:37-04:00   \n",
       "2              2005             2005  2005-09-28 08:16:58-04:00   \n",
       "3              2004          Unknown        2004-09-30 13:47:07   \n",
       "4              2000             2002  2000-02-10 09:37:43+00:00   \n",
       "...             ...              ...                        ...   \n",
       "19974       Unknown          Unknown                        NaN   \n",
       "19975       Unknown          Unknown                        NaN   \n",
       "19976       Unknown          Unknown                        NaN   \n",
       "19977       Unknown          Unknown                        NaN   \n",
       "19978       Unknown          Unknown                        NaN   \n",
       "\n",
       "                      ModifyDate PageCount FileSize  LenFileName  \n",
       "0      2006-04-06 08:48:54-04:00      34.0    388.0           13  \n",
       "1      2010-03-22 11:18:17-04:00      29.0    245.0           12  \n",
       "2      2005-09-28 08:16:58-04:00      34.0    241.0           12  \n",
       "3                            NaN      59.0    359.0           10  \n",
       "4      2002-04-29 11:59:37-04:00       5.0     32.0            7  \n",
       "...                          ...       ...      ...          ...  \n",
       "19974                        NaN       0.0    299.0           44  \n",
       "19975                        NaN       0.0      9.6           44  \n",
       "19976                        NaN       0.0     15.0           44  \n",
       "19977                        NaN       0.0      7.5           44  \n",
       "19978                        NaN       0.0      9.2           44  \n",
       "\n",
       "[19979 rows x 22 columns]"
      ]
     },
     "execution_count": 46,
     "metadata": {},
     "output_type": "execute_result"
    }
   ],
   "source": [
    "files_final = pd.DataFrame({\n",
    "    # Categorical\n",
    "    \"hasCreator\": hasCreator,\n",
    "    \"isAuthorCreator\": isAuthorCreator,\n",
    "    \"CreatorTool\": CreatorTool,\n",
    "    \"Producer\": Producer,\n",
    "    \"hasWarning\": hasWarning,\n",
    "    \"TaggedPDF\": TaggedPDF,\n",
    "    \"hasTitle\": hasTitle,\n",
    "    \"hasKeywords\": hasKeywords,\n",
    "    \"hasSubject\": hasSubject,\n",
    "    \"hasDescription\": hasDescription,\n",
    "    \"Linearized\": Linearized,\n",
    "    \"PDFVersion\": PDFVersion,\n",
    "    \"HasXFA\": HasXFA,\n",
    "    \"hasXMPToolkit\": hasXMPToolkit,\n",
    "    \"ModificationTZ\": ModificationTZ,\n",
    "    \"CreationYear\":CreationYear,\n",
    "    \"ModificationYear\":ModificationYear,\n",
    "\n",
    "    # Continuous\n",
    "    \"CreateDate\": CreateDate,\n",
    "    \"ModifyDate\": ModifyDate,\n",
    "    # \"FileModifyDate\": FileModifyDate,\n",
    "    \"PageCount\": PageCount,\n",
    "    \"FileSize\": FileSize,\n",
    "    \"LenFileName\": LenFileName\n",
    "})\n",
    "\n",
    "files_final"
   ]
  },
  {
   "cell_type": "markdown",
   "metadata": {},
   "source": [
    "### Save dataframe"
   ]
  },
  {
   "cell_type": "code",
   "execution_count": 47,
   "metadata": {},
   "outputs": [],
   "source": [
    "df_out = files_final.copy()\n",
    "df_out['Label'] = label\n",
    "df_out.to_csv('data/new_metadata.csv', index=False)"
   ]
  }
 ],
 "metadata": {
  "interpreter": {
   "hash": "b3ba2566441a7c06988d0923437866b63cedc61552a5af99d1f4fb67d367b25f"
  },
  "kernelspec": {
   "display_name": "Python 3",
   "language": "python",
   "name": "python3"
  },
  "language_info": {
   "codemirror_mode": {
    "name": "ipython",
    "version": 3
   },
   "file_extension": ".py",
   "mimetype": "text/x-python",
   "name": "python",
   "nbconvert_exporter": "python",
   "pygments_lexer": "ipython3",
   "version": "3.8.8"
  }
 },
 "nbformat": 4,
 "nbformat_minor": 2
}
