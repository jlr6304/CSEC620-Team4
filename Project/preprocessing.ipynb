{
 "cells": [
  {
   "cell_type": "markdown",
   "metadata": {},
   "source": [
    "# Preprocessing\n",
    "\n",
    "---"
   ]
  },
  {
   "cell_type": "code",
   "execution_count": 1,
   "metadata": {},
   "outputs": [],
   "source": [
    "import pandas as pd \n",
    "import numpy as np\n",
    "import matplotlib.pyplot as plt"
   ]
  },
  {
   "cell_type": "code",
   "execution_count": 2,
   "metadata": {},
   "outputs": [],
   "source": [
    "files = pd.read_csv(\"data/new_metadata.csv\")"
   ]
  },
  {
   "cell_type": "code",
   "execution_count": 3,
   "metadata": {},
   "outputs": [
    {
     "data": {
      "text/html": [
       "<div>\n",
       "<style scoped>\n",
       "    .dataframe tbody tr th:only-of-type {\n",
       "        vertical-align: middle;\n",
       "    }\n",
       "\n",
       "    .dataframe tbody tr th {\n",
       "        vertical-align: top;\n",
       "    }\n",
       "\n",
       "    .dataframe thead th {\n",
       "        text-align: right;\n",
       "    }\n",
       "</style>\n",
       "<table border=\"1\" class=\"dataframe\">\n",
       "  <thead>\n",
       "    <tr style=\"text-align: right;\">\n",
       "      <th></th>\n",
       "      <th>hasCreator</th>\n",
       "      <th>isAuthorCreator</th>\n",
       "      <th>CreatorTool</th>\n",
       "      <th>Producer</th>\n",
       "      <th>hasWarning</th>\n",
       "      <th>TaggedPDF</th>\n",
       "      <th>hasTitle</th>\n",
       "      <th>hasKeywords</th>\n",
       "      <th>hasSubject</th>\n",
       "      <th>hasDescription</th>\n",
       "      <th>...</th>\n",
       "      <th>hasXMPToolkit</th>\n",
       "      <th>ModificationTZ</th>\n",
       "      <th>CreationYear</th>\n",
       "      <th>ModificationYear</th>\n",
       "      <th>CreateDate</th>\n",
       "      <th>ModifyDate</th>\n",
       "      <th>PageCount</th>\n",
       "      <th>FileSize</th>\n",
       "      <th>LenFileName</th>\n",
       "      <th>Label</th>\n",
       "    </tr>\n",
       "  </thead>\n",
       "  <tbody>\n",
       "    <tr>\n",
       "      <th>0</th>\n",
       "      <td>False</td>\n",
       "      <td>True</td>\n",
       "      <td>Other</td>\n",
       "      <td>Acrobat Distiller 5.0</td>\n",
       "      <td>False</td>\n",
       "      <td>False</td>\n",
       "      <td>True</td>\n",
       "      <td>False</td>\n",
       "      <td>False</td>\n",
       "      <td>False</td>\n",
       "      <td>...</td>\n",
       "      <td>True</td>\n",
       "      <td>UTC\\-04:00</td>\n",
       "      <td>2006</td>\n",
       "      <td>2006</td>\n",
       "      <td>2006-03-30 14:09:13+00:00</td>\n",
       "      <td>2006-04-06 08:48:54-04:00</td>\n",
       "      <td>34.0</td>\n",
       "      <td>388.0</td>\n",
       "      <td>13</td>\n",
       "      <td>Benign</td>\n",
       "    </tr>\n",
       "    <tr>\n",
       "      <th>1</th>\n",
       "      <td>False</td>\n",
       "      <td>True</td>\n",
       "      <td>Other</td>\n",
       "      <td>Acrobat Distiller 6.0.1</td>\n",
       "      <td>False</td>\n",
       "      <td>False</td>\n",
       "      <td>True</td>\n",
       "      <td>False</td>\n",
       "      <td>False</td>\n",
       "      <td>False</td>\n",
       "      <td>...</td>\n",
       "      <td>True</td>\n",
       "      <td>UTC\\-04:00</td>\n",
       "      <td>2006</td>\n",
       "      <td>2010</td>\n",
       "      <td>2006-04-05 09:30:37-04:00</td>\n",
       "      <td>2010-03-22 11:18:17-04:00</td>\n",
       "      <td>29.0</td>\n",
       "      <td>245.0</td>\n",
       "      <td>12</td>\n",
       "      <td>Benign</td>\n",
       "    </tr>\n",
       "    <tr>\n",
       "      <th>2</th>\n",
       "      <td>False</td>\n",
       "      <td>True</td>\n",
       "      <td>Other</td>\n",
       "      <td>Acrobat Distiller 6.0</td>\n",
       "      <td>False</td>\n",
       "      <td>False</td>\n",
       "      <td>True</td>\n",
       "      <td>False</td>\n",
       "      <td>False</td>\n",
       "      <td>False</td>\n",
       "      <td>...</td>\n",
       "      <td>True</td>\n",
       "      <td>UTC\\-04:00</td>\n",
       "      <td>2005</td>\n",
       "      <td>2005</td>\n",
       "      <td>2005-09-28 08:16:58-04:00</td>\n",
       "      <td>2005-09-28 08:16:58-04:00</td>\n",
       "      <td>34.0</td>\n",
       "      <td>241.0</td>\n",
       "      <td>12</td>\n",
       "      <td>Benign</td>\n",
       "    </tr>\n",
       "    <tr>\n",
       "      <th>3</th>\n",
       "      <td>False</td>\n",
       "      <td>False</td>\n",
       "      <td>Unknown</td>\n",
       "      <td>Acrobat PDFWriter 5.0</td>\n",
       "      <td>False</td>\n",
       "      <td>False</td>\n",
       "      <td>True</td>\n",
       "      <td>False</td>\n",
       "      <td>False</td>\n",
       "      <td>False</td>\n",
       "      <td>...</td>\n",
       "      <td>False</td>\n",
       "      <td>Unknown</td>\n",
       "      <td>2004</td>\n",
       "      <td>Unknown</td>\n",
       "      <td>2004-09-30 13:47:07</td>\n",
       "      <td>NaN</td>\n",
       "      <td>59.0</td>\n",
       "      <td>359.0</td>\n",
       "      <td>10</td>\n",
       "      <td>Benign</td>\n",
       "    </tr>\n",
       "    <tr>\n",
       "      <th>4</th>\n",
       "      <td>False</td>\n",
       "      <td>True</td>\n",
       "      <td>Unknown</td>\n",
       "      <td>Acrobat Distiller 4.0</td>\n",
       "      <td>False</td>\n",
       "      <td>False</td>\n",
       "      <td>True</td>\n",
       "      <td>True</td>\n",
       "      <td>True</td>\n",
       "      <td>True</td>\n",
       "      <td>...</td>\n",
       "      <td>False</td>\n",
       "      <td>UTC\\-04:00</td>\n",
       "      <td>2000</td>\n",
       "      <td>2002</td>\n",
       "      <td>2000-02-10 09:37:43+00:00</td>\n",
       "      <td>2002-04-29 11:59:37-04:00</td>\n",
       "      <td>5.0</td>\n",
       "      <td>32.0</td>\n",
       "      <td>7</td>\n",
       "      <td>Benign</td>\n",
       "    </tr>\n",
       "    <tr>\n",
       "      <th>...</th>\n",
       "      <td>...</td>\n",
       "      <td>...</td>\n",
       "      <td>...</td>\n",
       "      <td>...</td>\n",
       "      <td>...</td>\n",
       "      <td>...</td>\n",
       "      <td>...</td>\n",
       "      <td>...</td>\n",
       "      <td>...</td>\n",
       "      <td>...</td>\n",
       "      <td>...</td>\n",
       "      <td>...</td>\n",
       "      <td>...</td>\n",
       "      <td>...</td>\n",
       "      <td>...</td>\n",
       "      <td>...</td>\n",
       "      <td>...</td>\n",
       "      <td>...</td>\n",
       "      <td>...</td>\n",
       "      <td>...</td>\n",
       "      <td>...</td>\n",
       "    </tr>\n",
       "    <tr>\n",
       "      <th>19974</th>\n",
       "      <td>True</td>\n",
       "      <td>False</td>\n",
       "      <td>Unknown</td>\n",
       "      <td>Unknown</td>\n",
       "      <td>True</td>\n",
       "      <td>False</td>\n",
       "      <td>False</td>\n",
       "      <td>False</td>\n",
       "      <td>False</td>\n",
       "      <td>False</td>\n",
       "      <td>...</td>\n",
       "      <td>False</td>\n",
       "      <td>Unknown</td>\n",
       "      <td>Unknown</td>\n",
       "      <td>Unknown</td>\n",
       "      <td>NaN</td>\n",
       "      <td>NaN</td>\n",
       "      <td>0.0</td>\n",
       "      <td>299.0</td>\n",
       "      <td>44</td>\n",
       "      <td>Malware</td>\n",
       "    </tr>\n",
       "    <tr>\n",
       "      <th>19975</th>\n",
       "      <td>True</td>\n",
       "      <td>False</td>\n",
       "      <td>Unknown</td>\n",
       "      <td>Unknown</td>\n",
       "      <td>True</td>\n",
       "      <td>False</td>\n",
       "      <td>False</td>\n",
       "      <td>False</td>\n",
       "      <td>False</td>\n",
       "      <td>False</td>\n",
       "      <td>...</td>\n",
       "      <td>False</td>\n",
       "      <td>Unknown</td>\n",
       "      <td>Unknown</td>\n",
       "      <td>Unknown</td>\n",
       "      <td>NaN</td>\n",
       "      <td>NaN</td>\n",
       "      <td>0.0</td>\n",
       "      <td>9.6</td>\n",
       "      <td>44</td>\n",
       "      <td>Malware</td>\n",
       "    </tr>\n",
       "    <tr>\n",
       "      <th>19976</th>\n",
       "      <td>True</td>\n",
       "      <td>False</td>\n",
       "      <td>Unknown</td>\n",
       "      <td>Unknown</td>\n",
       "      <td>True</td>\n",
       "      <td>False</td>\n",
       "      <td>False</td>\n",
       "      <td>False</td>\n",
       "      <td>False</td>\n",
       "      <td>False</td>\n",
       "      <td>...</td>\n",
       "      <td>False</td>\n",
       "      <td>Unknown</td>\n",
       "      <td>Unknown</td>\n",
       "      <td>Unknown</td>\n",
       "      <td>NaN</td>\n",
       "      <td>NaN</td>\n",
       "      <td>0.0</td>\n",
       "      <td>15.0</td>\n",
       "      <td>44</td>\n",
       "      <td>Malware</td>\n",
       "    </tr>\n",
       "    <tr>\n",
       "      <th>19977</th>\n",
       "      <td>True</td>\n",
       "      <td>False</td>\n",
       "      <td>Unknown</td>\n",
       "      <td>Unknown</td>\n",
       "      <td>True</td>\n",
       "      <td>False</td>\n",
       "      <td>False</td>\n",
       "      <td>False</td>\n",
       "      <td>False</td>\n",
       "      <td>False</td>\n",
       "      <td>...</td>\n",
       "      <td>False</td>\n",
       "      <td>Unknown</td>\n",
       "      <td>Unknown</td>\n",
       "      <td>Unknown</td>\n",
       "      <td>NaN</td>\n",
       "      <td>NaN</td>\n",
       "      <td>0.0</td>\n",
       "      <td>7.5</td>\n",
       "      <td>44</td>\n",
       "      <td>Malware</td>\n",
       "    </tr>\n",
       "    <tr>\n",
       "      <th>19978</th>\n",
       "      <td>True</td>\n",
       "      <td>False</td>\n",
       "      <td>Unknown</td>\n",
       "      <td>Unknown</td>\n",
       "      <td>True</td>\n",
       "      <td>False</td>\n",
       "      <td>False</td>\n",
       "      <td>False</td>\n",
       "      <td>False</td>\n",
       "      <td>False</td>\n",
       "      <td>...</td>\n",
       "      <td>False</td>\n",
       "      <td>Unknown</td>\n",
       "      <td>Unknown</td>\n",
       "      <td>Unknown</td>\n",
       "      <td>NaN</td>\n",
       "      <td>NaN</td>\n",
       "      <td>0.0</td>\n",
       "      <td>9.2</td>\n",
       "      <td>44</td>\n",
       "      <td>Malware</td>\n",
       "    </tr>\n",
       "  </tbody>\n",
       "</table>\n",
       "<p>19979 rows × 23 columns</p>\n",
       "</div>"
      ],
      "text/plain": [
       "       hasCreator  isAuthorCreator CreatorTool                 Producer  \\\n",
       "0           False             True       Other    Acrobat Distiller 5.0   \n",
       "1           False             True       Other  Acrobat Distiller 6.0.1   \n",
       "2           False             True       Other    Acrobat Distiller 6.0   \n",
       "3           False            False     Unknown    Acrobat PDFWriter 5.0   \n",
       "4           False             True     Unknown    Acrobat Distiller 4.0   \n",
       "...           ...              ...         ...                      ...   \n",
       "19974        True            False     Unknown                  Unknown   \n",
       "19975        True            False     Unknown                  Unknown   \n",
       "19976        True            False     Unknown                  Unknown   \n",
       "19977        True            False     Unknown                  Unknown   \n",
       "19978        True            False     Unknown                  Unknown   \n",
       "\n",
       "       hasWarning  TaggedPDF  hasTitle  hasKeywords  hasSubject  \\\n",
       "0           False      False      True        False       False   \n",
       "1           False      False      True        False       False   \n",
       "2           False      False      True        False       False   \n",
       "3           False      False      True        False       False   \n",
       "4           False      False      True         True        True   \n",
       "...           ...        ...       ...          ...         ...   \n",
       "19974        True      False     False        False       False   \n",
       "19975        True      False     False        False       False   \n",
       "19976        True      False     False        False       False   \n",
       "19977        True      False     False        False       False   \n",
       "19978        True      False     False        False       False   \n",
       "\n",
       "       hasDescription  ...  hasXMPToolkit ModificationTZ  CreationYear  \\\n",
       "0               False  ...           True     UTC\\-04:00          2006   \n",
       "1               False  ...           True     UTC\\-04:00          2006   \n",
       "2               False  ...           True     UTC\\-04:00          2005   \n",
       "3               False  ...          False        Unknown          2004   \n",
       "4                True  ...          False     UTC\\-04:00          2000   \n",
       "...               ...  ...            ...            ...           ...   \n",
       "19974           False  ...          False        Unknown       Unknown   \n",
       "19975           False  ...          False        Unknown       Unknown   \n",
       "19976           False  ...          False        Unknown       Unknown   \n",
       "19977           False  ...          False        Unknown       Unknown   \n",
       "19978           False  ...          False        Unknown       Unknown   \n",
       "\n",
       "       ModificationYear                 CreateDate                 ModifyDate  \\\n",
       "0                  2006  2006-03-30 14:09:13+00:00  2006-04-06 08:48:54-04:00   \n",
       "1                  2010  2006-04-05 09:30:37-04:00  2010-03-22 11:18:17-04:00   \n",
       "2                  2005  2005-09-28 08:16:58-04:00  2005-09-28 08:16:58-04:00   \n",
       "3               Unknown        2004-09-30 13:47:07                        NaN   \n",
       "4                  2002  2000-02-10 09:37:43+00:00  2002-04-29 11:59:37-04:00   \n",
       "...                 ...                        ...                        ...   \n",
       "19974           Unknown                        NaN                        NaN   \n",
       "19975           Unknown                        NaN                        NaN   \n",
       "19976           Unknown                        NaN                        NaN   \n",
       "19977           Unknown                        NaN                        NaN   \n",
       "19978           Unknown                        NaN                        NaN   \n",
       "\n",
       "      PageCount FileSize LenFileName    Label  \n",
       "0          34.0    388.0          13   Benign  \n",
       "1          29.0    245.0          12   Benign  \n",
       "2          34.0    241.0          12   Benign  \n",
       "3          59.0    359.0          10   Benign  \n",
       "4           5.0     32.0           7   Benign  \n",
       "...         ...      ...         ...      ...  \n",
       "19974       0.0    299.0          44  Malware  \n",
       "19975       0.0      9.6          44  Malware  \n",
       "19976       0.0     15.0          44  Malware  \n",
       "19977       0.0      7.5          44  Malware  \n",
       "19978       0.0      9.2          44  Malware  \n",
       "\n",
       "[19979 rows x 23 columns]"
      ]
     },
     "execution_count": 3,
     "metadata": {},
     "output_type": "execute_result"
    }
   ],
   "source": [
    "files"
   ]
  },
  {
   "cell_type": "markdown",
   "metadata": {},
   "source": [
    "## Normalization study\n",
    "\n",
    "As there are few numeric variables, and that they are mixed with categorical variables we should study their distribution to see how to normalize those if it is needed by the chosen classifier."
   ]
  },
  {
   "cell_type": "markdown",
   "metadata": {},
   "source": [
    "### File Size"
   ]
  },
  {
   "cell_type": "code",
   "execution_count": 4,
   "metadata": {},
   "outputs": [
    {
     "data": {
      "image/png": "[encoded data removed]",
      "text/plain": [
       "<Figure size 640x480 with 1 Axes>"
      ]
     },
     "metadata": {},
     "output_type": "display_data"
    }
   ],
   "source": [
    "plt.hist(files.FileSize, bins=100)\n",
    "plt.title('File Size Histogram')\n",
    "plt.show()"
   ]
  },
  {
   "cell_type": "markdown",
   "metadata": {},
   "source": [
    "### Page Count"
   ]
  },
  {
   "cell_type": "code",
   "execution_count": 5,
   "metadata": {},
   "outputs": [
    {
     "data": {
      "image/png": "[encoded data removed]",
      "text/plain": [
       "<Figure size 640x480 with 1 Axes>"
      ]
     },
     "metadata": {},
     "output_type": "display_data"
    }
   ],
   "source": [
    "plt.hist(files.PageCount, bins=100)\n",
    "plt.title('Page Count Histogram')\n",
    "plt.show()"
   ]
  },
  {
   "cell_type": "markdown",
   "metadata": {},
   "source": [
    "### File name length"
   ]
  },
  {
   "cell_type": "code",
   "execution_count": 6,
   "metadata": {},
   "outputs": [
    {
     "data": {
      "image/png": "[encoded data removed]",
      "text/plain": [
       "<Figure size 640x480 with 1 Axes>"
      ]
     },
     "metadata": {},
     "output_type": "display_data"
    }
   ],
   "source": [
    "plt.hist(files.LenFileName, bins=100)\n",
    "plt.title('Filename Length Histogram')\n",
    "plt.show()"
   ]
  },
  {
   "cell_type": "markdown",
   "metadata": {},
   "source": [
    "## Feature correlation"
   ]
  },
  {
   "cell_type": "code",
   "execution_count": 7,
   "metadata": {},
   "outputs": [],
   "source": [
    "from sklearn import preprocessing\n",
    "from scipy.stats import chi2_contingency\n",
    "import seaborn as sns"
   ]
  },
  {
   "cell_type": "code",
   "execution_count": 8,
   "metadata": {},
   "outputs": [],
   "source": [
    "non_num_features = [\n",
    "    \"hasCreator\", \"isAuthorCreator\", \"ModificationTZ\", \"CreatorTool\",  \n",
    "    \"TaggedPDF\", \"hasTitle\", \"hasKeywords\", \"hasSubject\", \"CreationYear\", \n",
    "    \"ModificationYear\", \"Linearized\", \"PDFVersion\", \"HasXFA\"\n",
    "]"
   ]
  },
  {
   "cell_type": "code",
   "execution_count": 9,
   "metadata": {},
   "outputs": [],
   "source": [
    "num_features = [\"PageCount\", \"FileSize\"]"
   ]
  },
  {
   "cell_type": "markdown",
   "metadata": {},
   "source": [
    "#### Categorical features"
   ]
  },
  {
   "cell_type": "code",
   "execution_count": 10,
   "metadata": {},
   "outputs": [],
   "source": [
    "labelEnc = preprocessing.LabelEncoder()\n",
    "data_encoded = pd.DataFrame() \n",
    "data = files[non_num_features]\n",
    "for i in data.columns :\n",
    "  data_encoded[i]=labelEnc.fit_transform(data[i])"
   ]
  },
  {
   "cell_type": "code",
   "execution_count": 11,
   "metadata": {},
   "outputs": [],
   "source": [
    "def cramers_V(var1,var2) :\n",
    "  crosstab =np.array(pd.crosstab(var1,var2, rownames=None, colnames=None)) # Cross table building\n",
    "  stat = chi2_contingency(crosstab)[0] # Keeping of the test statistic of the Chi2 test\n",
    "  obs = np.sum(crosstab) # Number of observations\n",
    "  mini = min(crosstab.shape)-1 # Take the minimum value between the columns and the rows of the cross table\n",
    "  return (stat/(obs*mini))"
   ]
  },
  {
   "cell_type": "code",
   "execution_count": 12,
   "metadata": {},
   "outputs": [],
   "source": [
    "rows= []\n",
    "\n",
    "for var1 in data_encoded:\n",
    "  col = []\n",
    "  for var2 in data_encoded :\n",
    "    cramers =cramers_V(data_encoded[var1], data_encoded[var2]) # Cramer's V test\n",
    "    col.append(round(cramers,2)) # Keeping of the rounded value of the Cramer's V  \n",
    "  rows.append(col)\n",
    "  \n",
    "cramers_results = np.array(rows)\n",
    "df = pd.DataFrame(cramers_results, columns = data_encoded.columns, index =data_encoded.columns)"
   ]
  },
  {
   "cell_type": "code",
   "execution_count": 13,
   "metadata": {},
   "outputs": [
    {
     "data": {
      "image/png": "[encoded data removed]",
      "text/plain": [
       "<Figure size 640x480 with 2 Axes>"
      ]
     },
     "metadata": {},
     "output_type": "display_data"
    }
   ],
   "source": [
    "mask = np.zeros_like(df, dtype=\"bool\")\n",
    "mask[np.triu_indices_from(mask)] = True\n",
    "\n",
    "plt.figure()\n",
    "with sns.axes_style(\"white\"):\n",
    "  ax = sns.heatmap(df, mask=mask,vmin=0., vmax=1, square=True)\n",
    "plt.title(\"Correlation Heatmap\")\n",
    "plt.show()"
   ]
  },
  {
   "cell_type": "markdown",
   "metadata": {},
   "source": [
    "#### Numerical features"
   ]
  },
  {
   "cell_type": "code",
   "execution_count": 14,
   "metadata": {},
   "outputs": [
    {
     "data": {
      "image/png": "[encoded data removed]",
      "text/plain": [
       "<Figure size 640x480 with 2 Axes>"
      ]
     },
     "metadata": {},
     "output_type": "display_data"
    }
   ],
   "source": [
    "data = files[num_features]\n",
    "df = data.corr()\n",
    "\n",
    "mask = np.zeros_like(df, dtype=\"bool\")\n",
    "mask[np.triu_indices_from(mask)] = True\n",
    "\n",
    "sns.heatmap(df, mask=mask, vmin=0, vmax=1, square=True);\n",
    "plt.show()"
   ]
  },
  {
   "cell_type": "markdown",
   "metadata": {},
   "source": [
    "## Conversion to numeric array \n",
    "\n",
    "Convert the pandas array to a np.array that can be used by the `sklearn` machine learning module "
   ]
  },
  {
   "cell_type": "markdown",
   "metadata": {},
   "source": [
    "#### Categorical features"
   ]
  },
  {
   "cell_type": "code",
   "execution_count": 15,
   "metadata": {},
   "outputs": [],
   "source": [
    "non_num_df = files[non_num_features].copy()\n",
    "\n",
    "non_num_df = pd.get_dummies(non_num_df) * 1 # one-hot encoding + conversion of boolean to integers"
   ]
  },
  {
   "cell_type": "markdown",
   "metadata": {},
   "source": [
    "#### Numerical features"
   ]
  },
  {
   "cell_type": "code",
   "execution_count": 16,
   "metadata": {},
   "outputs": [],
   "source": [
    "num_df = files[num_features].copy()\n",
    "\n",
    "num_df = (num_df - num_df.min(axis=0)) / (num_df.max(axis=0) - num_df.min(axis=0)) # Normalization"
   ]
  },
  {
   "cell_type": "markdown",
   "metadata": {},
   "source": [
    "#### Array & Labels"
   ]
  },
  {
   "cell_type": "code",
   "execution_count": 17,
   "metadata": {},
   "outputs": [],
   "source": [
    "df = non_num_df.join(num_df, how = 'inner')\n",
    "\n",
    "X = df.values\n",
    "columns = df.columns\n",
    "y = files.Label.map(lambda x: int(x == \"Malware\")).values"
   ]
  },
  {
   "cell_type": "markdown",
   "metadata": {},
   "source": [
    "## Split train/test"
   ]
  },
  {
   "cell_type": "code",
   "execution_count": 18,
   "metadata": {},
   "outputs": [],
   "source": [
    "import numpy as np\n",
    "from sklearn.model_selection import train_test_split"
   ]
  },
  {
   "cell_type": "code",
   "execution_count": 19,
   "metadata": {},
   "outputs": [],
   "source": [
    "X_train, X_test, y_train, y_test = train_test_split(X, y, test_size = .7)"
   ]
  },
  {
   "cell_type": "code",
   "execution_count": 20,
   "metadata": {},
   "outputs": [],
   "source": [
    "# Training set\n",
    "np.save(\"data/train_set.npy\", X_train)\n",
    "np.save(\"data/train_labels.npy\", y_train)\n",
    "\n",
    "# Testing set\n",
    "np.save(\"data/test_set.npy\", X_test)\n",
    "np.save(\"data/test_labels.npy\", y_test)\n",
    "\n",
    "# Column names\n",
    "np.save(\"data/columns.npy\", columns)"
   ]
  }
 ],
 "metadata": {
  "interpreter": {
   "hash": "b3ba2566441a7c06988d0923437866b63cedc61552a5af99d1f4fb67d367b25f"
  },
  "kernelspec": {
   "display_name": "Python 3",
   "language": "python",
   "name": "python3"
  },
  "language_info": {
   "codemirror_mode": {
    "name": "ipython",
    "version": 3
   },
   "file_extension": ".py",
   "mimetype": "text/x-python",
   "name": "python",
   "nbconvert_exporter": "python",
   "pygments_lexer": "ipython3",
   "version": "3.8.8"
  }
 },
 "nbformat": 4,
 "nbformat_minor": 2
}
